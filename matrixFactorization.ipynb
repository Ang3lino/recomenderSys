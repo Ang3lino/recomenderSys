{
  "nbformat": 4,
  "nbformat_minor": 0,
  "metadata": {
    "colab": {
      "name": "matrixFactorization.ipynb",
      "provenance": [],
      "collapsed_sections": [],
      "authorship_tag": "ABX9TyMV/T6Yeid0CCMFKZXsIqYW",
      "include_colab_link": true
    },
    "kernelspec": {
      "name": "python3",
      "display_name": "Python 3"
    },
    "accelerator": "GPU"
  },
  "cells": [
    {
      "cell_type": "markdown",
      "metadata": {
        "id": "view-in-github",
        "colab_type": "text"
      },
      "source": [
        "<a href=\"https://colab.research.google.com/github/Ang3lino/recomenderSys/blob/master/matrixFactorization.ipynb\" target=\"_parent\"><img src=\"https://colab.research.google.com/assets/colab-badge.svg\" alt=\"Open In Colab\"/></a>"
      ]
    },
    {
      "cell_type": "code",
      "metadata": {
        "id": "SSxoJImBTQXv",
        "colab_type": "code",
        "colab": {}
      },
      "source": [
        ""
      ],
      "execution_count": 0,
      "outputs": []
    },
    {
      "cell_type": "code",
      "metadata": {
        "id": "T8Bp0TVIUKNd",
        "colab_type": "code",
        "colab": {}
      },
      "source": [
        "\n",
        "import numpy as np\n",
        "import pandas as pd\n",
        "\n",
        "import os\n",
        "import random\n",
        "import pickle\n",
        "\n",
        "from sortedcontainers import SortedList\n",
        "from collections import Counter, defaultdict\n",
        "from tqdm import tqdm  # modulo cuya finalidad es dar un feedback del progreso de algun procedimiento"
      ],
      "execution_count": 0,
      "outputs": []
    },
    {
      "cell_type": "code",
      "metadata": {
        "id": "LEbzuxSvUKRb",
        "colab_type": "code",
        "colab": {}
      },
      "source": [
        "# !pip install tqdm --upgrade\n",
        "# tqdm.pandas()"
      ],
      "execution_count": 0,
      "outputs": []
    },
    {
      "cell_type": "code",
      "metadata": {
        "id": "YQT4v_rkUdb4",
        "colab_type": "code",
        "outputId": "9db17d78-fd0b-461e-a306-4660a272c863",
        "colab": {
          "base_uri": "https://localhost:8080/",
          "height": 35
        }
      },
      "source": [
        "from google.colab import drive  \n",
        "drive.mount('/content/drive')"
      ],
      "execution_count": 118,
      "outputs": [
        {
          "output_type": "stream",
          "text": [
            "Drive already mounted at /content/drive; to attempt to forcibly remount, call drive.mount(\"/content/drive\", force_remount=True).\n"
          ],
          "name": "stdout"
        }
      ]
    },
    {
      "cell_type": "code",
      "metadata": {
        "id": "RGX1hEdJUQyq",
        "colab_type": "code",
        "colab": {}
      },
      "source": [
        "def load_object(fname: str, user_count: int, item_count: int) -> defaultdict:\n",
        "    fdir = 'drive/My Drive/petroleo/movielens-20m-dataset'\n",
        "    fname = f'{fname}_{user_count}_{item_count}.json'\n",
        "    fpath = os.path.join(fdir, 'shrinked', fname)\n",
        "    with open(fpath, 'rb') as fp:\n",
        "        object_ = pickle.load(fp)\n",
        "    return object_\n",
        "\n",
        "def defaultdict_set(defdict):\n",
        "    return {k: set(v) for k, v in defdict.items()}\n",
        "\n",
        "\n",
        "user_count = 4096\n",
        "item_count = 512\n",
        "user2item = load_object('user2item', user_count, item_count)\n",
        "item2user = load_object('item2user', user_count, item_count)\n",
        "user_item2rating = load_object('user_item2rating', user_count, item_count)\n",
        "\n"
      ],
      "execution_count": 0,
      "outputs": []
    },
    {
      "cell_type": "code",
      "metadata": {
        "id": "_pZF9dV3W_fN",
        "colab_type": "code",
        "colab": {}
      },
      "source": [
        "user2item = {int(k): list(map(int, v)) for k, v in user2item.items()}\n",
        "item2user = {int(k): list(map(int, v)) for k, v in item2user.items()}\n",
        "user_item2rating = {(int(i), int(j)): v for (i, j), v in user_item2rating.items()}"
      ],
      "execution_count": 0,
      "outputs": []
    },
    {
      "cell_type": "markdown",
      "metadata": {
        "id": "UZs-iOaGaeG3",
        "colab_type": "text"
      },
      "source": [
        "\n",
        "# Factorizacion de matrices\n",
        "Con el fin de reducir espacio de almacenamiento y aumentar la velocidad del algoritmo aplicaremos factorizacion de matrices. Aqui, se busca obtener dos matrices cuyo producto aproxime de mejor manera a $R$. Es decir\n",
        "\n",
        "$$R \\approx \\hat R = WU^T$$\n",
        "\n",
        "Asumamos que $R$ con $m$ usuarios y $n$ articulos, donde $W$ es de dimension $m\\times k$ y $U$ es de dimension $n \\times k$. Definamos tambien la funcion de perdida\n",
        "\n",
        "$$ J = \\sum_{i, j} (r_{ij} - \\hat r_{ij})^2 = \\sum_{i,j} (r_{ij} - w_i^T u_j)^2 $$ \n",
        "\n",
        "Como de costumbre, se busca minimizar la funcion $J$, derivando parcialmente e igualando a cero tenemos.\n",
        "\n",
        "$$ w_{i} = (\\sum_{j\\in\\psi_i}u_ju_j^T)^{-1} \\sum_{j\\in\\psi_i}r_{ij}u_j $$ \n",
        "y $u_j$ como \n",
        "$$u_{j} = (\\sum_{i\\in \\Omega_j}w_iw_i^T)^{-1} \\sum_{i\\in \\Omega_j}r_{ij}w_i$$\n",
        "\n",
        "Vemos que tanto $w_i$ como $u_j$ dependen mutuamente. Resolveremos este problema aplicando el algoritmo de los minimos cuadrados altenantes, inicializamos tanto $U$ como $W$ con valores aleatorios y aplicamos el algoritmos un numero determinado de epochs."
      ]
    },
    {
      "cell_type": "code",
      "metadata": {
        "id": "WejLOai9URXL",
        "colab_type": "code",
        "colab": {}
      },
      "source": [
        "def loss_function(ratings: dict, u, w):\n",
        "    ''' r[(i, j)] -> int '''\n",
        "    return np.mean([(r - w[i].dot(u[j]))**2 for (i, j), r in ratings.items()])\n",
        "\n",
        "def solve_system(dst, src, R, index_relation, k):\n",
        "    I = index_relation.keys()\n",
        "    for i in I:\n",
        "        matrix = np.zeros((k,k))\n",
        "        vector = np.zeros(k)\n",
        "        try:\n",
        "            for j in index_relation[i]:\n",
        "                v = src[j]\n",
        "                matrix += np.outer(v, v)\n",
        "                vector += np.dot(R[(i,j)], v)\n",
        "            dst[i] = np.linalg.solve(matrix, vector) \n",
        "        except KeyError:\n",
        "            pass\n",
        "\n",
        "# funciona tambien, pero no minimiza de la mejor manera posible ?\n",
        "# def compute_matrices(R, i2j, j2i, k, epochs=10):\n",
        "#     n = int(max(j2i.keys())) + 1\n",
        "#     assert(k < n)\n",
        "#     m = int(max(i2j.keys())) + 1\n",
        "#     W = np.random.randn(m, k)\n",
        "#     U = np.random.randn(n, k)\n",
        "#     for epoch in tqdm(range(epochs)):\n",
        "#         solve_system(W, U, R, i2j, k)\n",
        "#         solve_system(U, W, R, j2i, k)\n",
        "#     return U, W\n",
        "\n"
      ],
      "execution_count": 0,
      "outputs": []
    },
    {
      "cell_type": "code",
      "metadata": {
        "id": "CocvTUBLphma",
        "colab_type": "code",
        "colab": {}
      },
      "source": [
        "def compute_matrices(R, i2j, j2i, k, epochs=10):\n",
        "    n = int(max(j2i.keys())) + 1\n",
        "    assert(k < n)\n",
        "    m = int(max(i2j.keys())) + 1\n",
        "    W = np.random.randn(m, k)\n",
        "    U = np.random.randn(n, k)\n",
        "    for epoch in tqdm(range(epochs)):\n",
        "        for i in i2j.keys():\n",
        "            matrix = np.zeros((k,k))\n",
        "            vector = np.zeros(k)\n",
        "            for j in i2j[i]:\n",
        "                matrix += np.outer(U[j], U[j])\n",
        "                vector += R[(i,j)] * U[j]\n",
        "            W[i] = np.linalg.solve(matrix, vector)\n",
        "        for j in j2i.keys():\n",
        "            matrix = np.zeros((k,k))\n",
        "            vector = np.zeros(k)\n",
        "            try:\n",
        "                for i in j2i[j]:\n",
        "                    matrix += np.outer(W[i], W[i])\n",
        "                    vector += R[(i,j)] * W[i]\n",
        "                U[j] = np.linalg.solve(matrix, vector)\n",
        "            except KeyError:\n",
        "                pass \n",
        "    return U, W"
      ],
      "execution_count": 0,
      "outputs": []
    },
    {
      "cell_type": "code",
      "metadata": {
        "id": "LvhcUwniAbQK",
        "colab_type": "code",
        "colab": {
          "base_uri": "https://localhost:8080/",
          "height": 672
        },
        "outputId": "2b5eb5c7-8246-4801-ee41-19405bac471d"
      },
      "source": [
        "U, W = compute_matrices(user_item2rating, user2item, item2user, 10, 10)"
      ],
      "execution_count": 145,
      "outputs": [
        {
          "output_type": "stream",
          "text": [
            "\n",
            "\n",
            "\n",
            "  0%|          | 0/10 [00:00<?, ?it/s]\u001b[A\u001b[A\u001b[A\n",
            "\n",
            "\n",
            " 10%|█         | 1/10 [00:23<03:30, 23.44s/it]\u001b[A\u001b[A\u001b[A\n",
            "\n",
            "\n",
            " 20%|██        | 2/10 [00:45<03:04, 23.10s/it]\u001b[A\u001b[A\u001b[A\n",
            "\n",
            "\n",
            " 30%|███       | 3/10 [01:07<02:39, 22.77s/it]\u001b[A\u001b[A\u001b[A\n",
            "\n",
            "\n",
            " 40%|████      | 4/10 [01:29<02:15, 22.60s/it]\u001b[A\u001b[A\u001b[A\n",
            "\n",
            "\n",
            " 50%|█████     | 5/10 [01:51<01:51, 22.39s/it]\u001b[A\u001b[A\u001b[A\n",
            "\n",
            "\n",
            " 60%|██████    | 6/10 [02:14<01:29, 22.38s/it]\u001b[A\u001b[A\u001b[A\n",
            "\n",
            "\n",
            " 70%|███████   | 7/10 [02:36<01:06, 22.28s/it]\u001b[A\u001b[A\u001b[A\n",
            "\n",
            "\n",
            " 80%|████████  | 8/10 [02:58<00:44, 22.18s/it]\u001b[A\u001b[A\u001b[A\n",
            "\n",
            "\n",
            " 90%|█████████ | 9/10 [03:20<00:22, 22.30s/it]\u001b[A\u001b[A\u001b[A\n",
            "\n",
            "\n",
            "100%|██████████| 10/10 [03:43<00:00, 22.31s/it]\u001b[A\u001b[A\u001b[A\n",
            "\n",
            "\n",
            "\u001b[A\u001b[A\u001b[A"
          ],
          "name": "stderr"
        }
      ]
    },
    {
      "cell_type": "code",
      "metadata": {
        "id": "QyeH0AyvAh_V",
        "colab_type": "code",
        "colab": {
          "base_uri": "https://localhost:8080/",
          "height": 35
        },
        "outputId": "8bce49d2-487a-41a0-f054-37f0868f293c"
      },
      "source": [
        "ans = loss_function(user_item2rating, U, W)\n",
        "print(ans)"
      ],
      "execution_count": 146,
      "outputs": [
        {
          "output_type": "stream",
          "text": [
            "0.49050991611722505\n"
          ],
          "name": "stdout"
        }
      ]
    },
    {
      "cell_type": "code",
      "metadata": {
        "id": "li8FS4p3byzy",
        "colab_type": "code",
        "colab": {
          "base_uri": "https://localhost:8080/",
          "height": 801
        },
        "outputId": "6483c407-2d62-4de1-e910-5a327acf4d3d"
      },
      "source": [
        "test_matrix = {}\n",
        "m = 10\n",
        "n = 10\n",
        "for i in range(m):\n",
        "    for j in range(n):\n",
        "        test_matrix[(i, j)] = i*m + j\n",
        "i2j = {x: [x for x in range(n)] for x in range(m)}\n",
        "j2i = {x: [x for x in range(m)] for x in range(n)}\n",
        "print(test_matrix)\n",
        "U, W = compute_matrices(test_matrix, i2j, j2i, 2, 10)\n",
        "\n",
        "print(W.shape)\n",
        "print(U.shape)\n",
        "print(U.T.shape)\n",
        "print(np.dot(W, U.T))\n",
        "\n",
        "ans = loss_function(test_matrix, U, W)\n",
        "print(ans)"
      ],
      "execution_count": 161,
      "outputs": [
        {
          "output_type": "stream",
          "text": [
            "\n",
            "\n",
            "\n",
            "  0%|          | 0/10 [00:00<?, ?it/s]\u001b[A\u001b[A\u001b[A\n",
            "\n",
            "\n",
            "100%|██████████| 10/10 [00:00<00:00, 346.53it/s]\u001b[A\u001b[A\u001b[A"
          ],
          "name": "stderr"
        },
        {
          "output_type": "stream",
          "text": [
            "{(0, 0): 0, (0, 1): 1, (0, 2): 2, (0, 3): 3, (0, 4): 4, (0, 5): 5, (0, 6): 6, (0, 7): 7, (0, 8): 8, (0, 9): 9, (1, 0): 10, (1, 1): 11, (1, 2): 12, (1, 3): 13, (1, 4): 14, (1, 5): 15, (1, 6): 16, (1, 7): 17, (1, 8): 18, (1, 9): 19, (2, 0): 20, (2, 1): 21, (2, 2): 22, (2, 3): 23, (2, 4): 24, (2, 5): 25, (2, 6): 26, (2, 7): 27, (2, 8): 28, (2, 9): 29, (3, 0): 30, (3, 1): 31, (3, 2): 32, (3, 3): 33, (3, 4): 34, (3, 5): 35, (3, 6): 36, (3, 7): 37, (3, 8): 38, (3, 9): 39, (4, 0): 40, (4, 1): 41, (4, 2): 42, (4, 3): 43, (4, 4): 44, (4, 5): 45, (4, 6): 46, (4, 7): 47, (4, 8): 48, (4, 9): 49, (5, 0): 50, (5, 1): 51, (5, 2): 52, (5, 3): 53, (5, 4): 54, (5, 5): 55, (5, 6): 56, (5, 7): 57, (5, 8): 58, (5, 9): 59, (6, 0): 60, (6, 1): 61, (6, 2): 62, (6, 3): 63, (6, 4): 64, (6, 5): 65, (6, 6): 66, (6, 7): 67, (6, 8): 68, (6, 9): 69, (7, 0): 70, (7, 1): 71, (7, 2): 72, (7, 3): 73, (7, 4): 74, (7, 5): 75, (7, 6): 76, (7, 7): 77, (7, 8): 78, (7, 9): 79, (8, 0): 80, (8, 1): 81, (8, 2): 82, (8, 3): 83, (8, 4): 84, (8, 5): 85, (8, 6): 86, (8, 7): 87, (8, 8): 88, (8, 9): 89, (9, 0): 90, (9, 1): 91, (9, 2): 92, (9, 3): 93, (9, 4): 94, (9, 5): 95, (9, 6): 96, (9, 7): 97, (9, 8): 98, (9, 9): 99}\n",
            "(10, 2)\n",
            "(10, 2)\n",
            "(2, 10)\n",
            "[[-2.68548521e-13  1.00000000e+00  2.00000000e+00  3.00000000e+00\n",
            "   4.00000000e+00  5.00000000e+00  6.00000000e+00  7.00000000e+00\n",
            "   8.00000000e+00  9.00000000e+00]\n",
            " [ 1.00000000e+01  1.10000000e+01  1.20000000e+01  1.30000000e+01\n",
            "   1.40000000e+01  1.50000000e+01  1.60000000e+01  1.70000000e+01\n",
            "   1.80000000e+01  1.90000000e+01]\n",
            " [ 2.00000000e+01  2.10000000e+01  2.20000000e+01  2.30000000e+01\n",
            "   2.40000000e+01  2.50000000e+01  2.60000000e+01  2.70000000e+01\n",
            "   2.80000000e+01  2.90000000e+01]\n",
            " [ 3.00000000e+01  3.10000000e+01  3.20000000e+01  3.30000000e+01\n",
            "   3.40000000e+01  3.50000000e+01  3.60000000e+01  3.70000000e+01\n",
            "   3.80000000e+01  3.90000000e+01]\n",
            " [ 4.00000000e+01  4.10000000e+01  4.20000000e+01  4.30000000e+01\n",
            "   4.40000000e+01  4.50000000e+01  4.60000000e+01  4.70000000e+01\n",
            "   4.80000000e+01  4.90000000e+01]\n",
            " [ 5.00000000e+01  5.10000000e+01  5.20000000e+01  5.30000000e+01\n",
            "   5.40000000e+01  5.50000000e+01  5.60000000e+01  5.70000000e+01\n",
            "   5.80000000e+01  5.90000000e+01]\n",
            " [ 6.00000000e+01  6.10000000e+01  6.20000000e+01  6.30000000e+01\n",
            "   6.40000000e+01  6.50000000e+01  6.60000000e+01  6.70000000e+01\n",
            "   6.80000000e+01  6.90000000e+01]\n",
            " [ 7.00000000e+01  7.10000000e+01  7.20000000e+01  7.30000000e+01\n",
            "   7.40000000e+01  7.50000000e+01  7.60000000e+01  7.70000000e+01\n",
            "   7.80000000e+01  7.90000000e+01]\n",
            " [ 8.00000000e+01  8.10000000e+01  8.20000000e+01  8.30000000e+01\n",
            "   8.40000000e+01  8.50000000e+01  8.60000000e+01  8.70000000e+01\n",
            "   8.80000000e+01  8.90000000e+01]\n",
            " [ 9.00000000e+01  9.10000000e+01  9.20000000e+01  9.30000000e+01\n",
            "   9.40000000e+01  9.50000000e+01  9.60000000e+01  9.70000000e+01\n",
            "   9.80000000e+01  9.90000000e+01]]\n",
            "5.603783091903283e-26\n"
          ],
          "name": "stdout"
        }
      ]
    },
    {
      "cell_type": "code",
      "metadata": {
        "id": "oeFV04kmpLWI",
        "colab_type": "code",
        "colab": {}
      },
      "source": [
        ""
      ],
      "execution_count": 0,
      "outputs": []
    }
  ]
}