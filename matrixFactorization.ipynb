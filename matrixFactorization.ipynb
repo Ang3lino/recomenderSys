{
  "nbformat": 4,
  "nbformat_minor": 0,
  "metadata": {
    "colab": {
      "name": "matrixFactorization.ipynb",
      "provenance": [],
      "collapsed_sections": [],
      "authorship_tag": "ABX9TyMjfOq84OE5jLsF2zSXYoWv",
      "include_colab_link": true
    },
    "kernelspec": {
      "name": "python3",
      "display_name": "Python 3"
    },
    "accelerator": "GPU"
  },
  "cells": [
    {
      "cell_type": "markdown",
      "metadata": {
        "id": "view-in-github",
        "colab_type": "text"
      },
      "source": [
        "<a href=\"https://colab.research.google.com/github/Ang3lino/recomenderSys/blob/master/matrixFactorization.ipynb\" target=\"_parent\"><img src=\"https://colab.research.google.com/assets/colab-badge.svg\" alt=\"Open In Colab\"/></a>"
      ]
    },
    {
      "cell_type": "code",
      "metadata": {
        "id": "SSxoJImBTQXv",
        "colab_type": "code",
        "colab": {}
      },
      "source": [
        ""
      ],
      "execution_count": 0,
      "outputs": []
    },
    {
      "cell_type": "code",
      "metadata": {
        "id": "T8Bp0TVIUKNd",
        "colab_type": "code",
        "colab": {}
      },
      "source": [
        "\n",
        "import numpy as np\n",
        "import pandas as pd\n",
        "\n",
        "import os\n",
        "import random\n",
        "import pickle\n",
        "\n",
        "from sortedcontainers import SortedList\n",
        "from collections import Counter, defaultdict\n",
        "from tqdm import tqdm  # modulo cuya finalidad es dar un feedback del progreso de algun procedimiento"
      ],
      "execution_count": 0,
      "outputs": []
    },
    {
      "cell_type": "code",
      "metadata": {
        "id": "LEbzuxSvUKRb",
        "colab_type": "code",
        "colab": {}
      },
      "source": [
        "# !pip install tqdm --upgrade\n",
        "# tqdm.pandas()"
      ],
      "execution_count": 0,
      "outputs": []
    },
    {
      "cell_type": "code",
      "metadata": {
        "id": "YQT4v_rkUdb4",
        "colab_type": "code",
        "outputId": "ad2df02d-664f-4978-ece1-b77d00da6483",
        "colab": {
          "base_uri": "https://localhost:8080/",
          "height": 128
        }
      },
      "source": [
        "from google.colab import drive  \n",
        "drive.mount('/content/drive')"
      ],
      "execution_count": 6,
      "outputs": [
        {
          "output_type": "stream",
          "text": [
            "Go to this URL in a browser: https://accounts.google.com/o/oauth2/auth?client_id=947318989803-6bn6qk8qdgf4n4g3pfee6491hc0brc4i.apps.googleusercontent.com&redirect_uri=urn%3aietf%3awg%3aoauth%3a2.0%3aoob&response_type=code&scope=email%20https%3a%2f%2fwww.googleapis.com%2fauth%2fdocs.test%20https%3a%2f%2fwww.googleapis.com%2fauth%2fdrive%20https%3a%2f%2fwww.googleapis.com%2fauth%2fdrive.photos.readonly%20https%3a%2f%2fwww.googleapis.com%2fauth%2fpeopleapi.readonly\n",
            "\n",
            "Enter your authorization code:\n",
            "··········\n",
            "Mounted at /content/drive\n"
          ],
          "name": "stdout"
        }
      ]
    },
    {
      "cell_type": "code",
      "metadata": {
        "id": "RGX1hEdJUQyq",
        "colab_type": "code",
        "colab": {}
      },
      "source": [
        "def load_object(fname: str, user_count: int, item_count: int) -> defaultdict:\n",
        "    fdir = 'drive/My Drive/petroleo/movielens-20m-dataset'\n",
        "    fname = f'{fname}_{user_count}_{item_count}.json'\n",
        "    fpath = os.path.join(fdir, 'shrinked', fname)\n",
        "    with open(fpath, 'rb') as fp:\n",
        "        object_ = pickle.load(fp)\n",
        "    return object_\n",
        "\n",
        "def defaultdict_set(defdict):\n",
        "    return {k: set(v) for k, v in defdict.items()}\n",
        "\n",
        "\n",
        "user_count = 4096\n",
        "item_count = 512\n",
        "user2item = load_object('user2item', user_count, item_count)\n",
        "item2user = load_object('item2user', user_count, item_count)\n",
        "user_item2rating = load_object('user_item2rating', user_count, item_count)\n",
        "\n"
      ],
      "execution_count": 0,
      "outputs": []
    },
    {
      "cell_type": "code",
      "metadata": {
        "id": "_pZF9dV3W_fN",
        "colab_type": "code",
        "colab": {}
      },
      "source": [
        "user2item = {int(k): list(map(int, v)) for k, v in user2item.items()}\n",
        "item2user = {int(k): list(map(int, v)) for k, v in item2user.items()}\n",
        "user_item2rating = {(int(i), int(j)): v for (i, j), v in user_item2rating.items()}"
      ],
      "execution_count": 0,
      "outputs": []
    },
    {
      "cell_type": "markdown",
      "metadata": {
        "id": "UZs-iOaGaeG3",
        "colab_type": "text"
      },
      "source": [
        "\n",
        "# Factorizacion de matrices\n",
        "Con el fin de reducir espacio de almacenamiento y aumentar la velocidad del algoritmo aplicaremos factorizacion de matrices. Aqui, se busca obtener dos matrices cuyo producto aproxime de mejor manera a $R$. Es decir\n",
        "\n",
        "$$R \\approx \\hat R = WU^T$$\n",
        "\n",
        "Asumamos que $R$ con $m$ usuarios y $n$ articulos, donde $W$ es de dimension $m\\times k$ y $U$ es de dimension $n \\times k$. Definamos tambien la funcion de perdida\n",
        "\n",
        "$$ J = \\sum_{i, j} (r_{ij} - \\hat r_{ij})^2 = \\sum_{i,j} (r_{ij} - w_i^T u_j)^2 $$ \n",
        "\n",
        "Como de costumbre, se busca minimizar la funcion $J$, derivando parcialmente e igualando a cero tenemos.\n",
        "\n",
        "$$ w_{i} = (\\sum_{j\\in\\psi_i}u_ju_j^T)^{-1} \\sum_{j\\in\\psi_i}r_{ij}u_j $$ \n",
        "_\n",
        "$$u_{j} = (\\sum_{i\\in\\Omega_j}w_iw_i^T)^{-1} \\sum_{i\\in\\Omega_j}r_{ij}w_i$$\n",
        "\n",
        "Vemos que tanto $w_i$ como $u_j$ dependen mutuamente. Resolveremos este problema aplicando el algoritmo de los minimos cuadrados altenantes, inicializamos tanto $U$ como $W$ con valores aleatorios y aplicamos el algoritmos un numero determinado de epochs."
      ]
    },
    {
      "cell_type": "code",
      "metadata": {
        "id": "WejLOai9URXL",
        "colab_type": "code",
        "colab": {}
      },
      "source": [
        "def loss_function(ratings: dict, u, w):\n",
        "    ''' r[(i, j)] -> int '''\n",
        "    return np.mean([(r - w[i].dot(u[j]))**2 for (i, j), r in ratings.items()])\n",
        "\n",
        "def vector_from_matrix(matrix: np.array, index, axis):\n",
        "    if axis == 0:\n",
        "        return matrix[index]\n",
        "    return matrix[:, index]\n",
        "\n",
        "def solve_system(dst, src, R, index_relation, k):\n",
        "    matrix = np.zeros((k,k))\n",
        "    vector = np.zeros(k)\n",
        "    I = index_relation.keys()\n",
        "    for i in tqdm(I, total=len(I)):\n",
        "        try:\n",
        "            for j in index_relation[i]:\n",
        "                v = src[j]\n",
        "                matrix += np.outer(v, v)\n",
        "                vector += np.dot(R[(i,j)], v)\n",
        "            dst[i] = np.linalg.solve(matrix, vector) \n",
        "        except KeyError:\n",
        "            pass\n",
        "\n",
        "def compute_matrices(R, i2j, j2i, epochs, k):\n",
        "    m = int(max(i2j.keys())) + 1\n",
        "    n = int(max(j2i.keys())) + 1\n",
        "    assert(k < n)\n",
        "    W = np.random.randn(m, k)\n",
        "    U = np.random.randn(n, k)\n",
        "    for epoch in tqdm(range(epochs)):\n",
        "        matrix = np.zeros((k,k))\n",
        "        vector = np.zeros(k)\n",
        "        print(f\"\\nComputing W for iter {epoch}\")\n",
        "\n",
        "        for i in i2j.keys():\n",
        "            for j in i2j[i]:\n",
        "                matrix += np.outer(U[j], U[j])\n",
        "                vector += R[(i,j)] * U[j]\n",
        "            W[i] = np.linalg.solve(matrix, vector)\n",
        "        print(f\"\\nComputing U for iter {epoch}\")\n",
        "        for j in j2i.keys():\n",
        "            matrix = np.zeros((k,k))\n",
        "            vector = np.zeros(k)\n",
        "            try:\n",
        "                for i in j2i[j]:\n",
        "                    matrix += np.outer(W[i], W[i])\n",
        "                    vector += R[(i,j)] * W[i]\n",
        "                U[j] = np.linalg.solve(matrix, vector)\n",
        "            except KeyError:\n",
        "                pass  \n",
        "    return U, W\n",
        "\n"
      ],
      "execution_count": 0,
      "outputs": []
    },
    {
      "cell_type": "code",
      "metadata": {
        "id": "_W1uLdg75_JR",
        "colab_type": "code",
        "outputId": "0367d064-6290-43e4-b56b-ae1d9b81fc58",
        "colab": {
          "base_uri": "https://localhost:8080/",
          "height": 55
        }
      },
      "source": [
        "test_matrix = {}\n",
        "m = 5\n",
        "n = 5\n",
        "for i in range(m):\n",
        "    for j in range(n):\n",
        "        test_matrix[(i, j)] = i*m + j\n",
        "i2j = {x: [x for x in range(n)] for x in range(m)}\n",
        "j2i = {x: [x for x in range(m)] for x in range(n)}\n",
        "print(test_matrix)\n"
      ],
      "execution_count": 21,
      "outputs": [
        {
          "output_type": "stream",
          "text": [
            "{(0, 0): 0, (0, 1): 1, (0, 2): 2, (0, 3): 3, (0, 4): 4, (1, 0): 5, (1, 1): 6, (1, 2): 7, (1, 3): 8, (1, 4): 9, (2, 0): 10, (2, 1): 11, (2, 2): 12, (2, 3): 13, (2, 4): 14, (3, 0): 15, (3, 1): 16, (3, 2): 17, (3, 3): 18, (3, 4): 19, (4, 0): 20, (4, 1): 21, (4, 2): 22, (4, 3): 23, (4, 4): 24}\n"
          ],
          "name": "stdout"
        }
      ]
    },
    {
      "cell_type": "code",
      "metadata": {
        "id": "mgWkzF2FFLYQ",
        "colab_type": "code",
        "outputId": "8fef3d9d-784c-4a38-859e-0a42b7e49f98",
        "colab": {
          "base_uri": "https://localhost:8080/",
          "height": 35
        }
      },
      "source": [
        "U, W = compute_matrices(test_matrix, i2j, j2i, 100, 3)\n",
        "# U, W = compute_matrices(user_item2rating, user2item, item2user, 10, 10)\n",
        "# U * W"
      ],
      "execution_count": 31,
      "outputs": [
        {
          "output_type": "stream",
          "text": [
            "100%|██████████| 10/10 [00:00<00:00, 1192.24it/s]\n"
          ],
          "name": "stderr"
        }
      ]
    },
    {
      "cell_type": "code",
      "metadata": {
        "id": "m13Lbpfd6RG6",
        "colab_type": "code",
        "outputId": "c9374f98-21fd-432a-83cd-69fb880b69b7",
        "colab": {
          "base_uri": "https://localhost:8080/",
          "height": 254
        }
      },
      "source": [
        "print(W.shape)\n",
        "print(U.shape)\n",
        "print(U.T.shape)\n",
        "print(np.dot(W, U.T))\n",
        "# W*U.T\n"
      ],
      "execution_count": 54,
      "outputs": [
        {
          "output_type": "stream",
          "text": [
            "(5, 3)\n",
            "(5, 3)\n",
            "(3, 5)\n",
            "[[7.33057312e-09 1.00000001e+00 2.00000001e+00 3.00000001e+00\n",
            "  4.00000001e+00]\n",
            " [4.99999999e+00 5.99999999e+00 6.99999999e+00 7.99999999e+00\n",
            "  8.99999999e+00]\n",
            " [1.00000000e+01 1.10000000e+01 1.20000000e+01 1.30000000e+01\n",
            "  1.40000000e+01]\n",
            " [1.50000000e+01 1.60000000e+01 1.70000000e+01 1.80000000e+01\n",
            "  1.90000000e+01]\n",
            " [2.00000000e+01 2.10000000e+01 2.20000000e+01 2.30000000e+01\n",
            "  2.40000000e+01]]\n"
          ],
          "name": "stdout"
        }
      ]
    },
    {
      "cell_type": "code",
      "metadata": {
        "id": "Cbu4V10iZUT1",
        "colab_type": "code",
        "colab": {
          "base_uri": "https://localhost:8080/",
          "height": 35
        },
        "outputId": "03e86ff2-ea64-4405-dec2-36d192b9b3d6"
      },
      "source": [
        "ans = loss_function(test_matrix, U, W)\n",
        "print(ans)"
      ],
      "execution_count": 65,
      "outputs": [
        {
          "output_type": "stream",
          "text": [
            "3.7533987027499755e-17\n"
          ],
          "name": "stdout"
        }
      ]
    },
    {
      "cell_type": "code",
      "metadata": {
        "id": "LvhcUwniAbQK",
        "colab_type": "code",
        "colab": {
          "base_uri": "https://localhost:8080/",
          "height": 963
        },
        "outputId": "2ca97114-4c85-4b94-d123-70fe22d1fcfd"
      },
      "source": [
        "U, W = compute_matrices(user_item2rating, user2item, item2user, 10, 10)"
      ],
      "execution_count": 73,
      "outputs": [
        {
          "output_type": "stream",
          "text": [
            "\n",
            "  0%|          | 0/10 [00:00<?, ?it/s]\u001b[A"
          ],
          "name": "stderr"
        },
        {
          "output_type": "stream",
          "text": [
            "\n",
            "Computing W for iter 0\n",
            "\n",
            "Computing U for iter 0\n"
          ],
          "name": "stdout"
        },
        {
          "output_type": "stream",
          "text": [
            "\n",
            " 10%|█         | 1/10 [00:22<03:21, 22.42s/it]\u001b[A"
          ],
          "name": "stderr"
        },
        {
          "output_type": "stream",
          "text": [
            "\n",
            "Computing W for iter 1\n",
            "\n",
            "Computing U for iter 1\n"
          ],
          "name": "stdout"
        },
        {
          "output_type": "stream",
          "text": [
            "\n",
            " 20%|██        | 2/10 [00:44<02:58, 22.35s/it]\u001b[A"
          ],
          "name": "stderr"
        },
        {
          "output_type": "stream",
          "text": [
            "\n",
            "Computing W for iter 2\n",
            "\n",
            "Computing U for iter 2\n"
          ],
          "name": "stdout"
        },
        {
          "output_type": "stream",
          "text": [
            "\n",
            " 30%|███       | 3/10 [01:07<02:36, 22.39s/it]\u001b[A"
          ],
          "name": "stderr"
        },
        {
          "output_type": "stream",
          "text": [
            "\n",
            "Computing W for iter 3\n",
            "\n",
            "Computing U for iter 3\n"
          ],
          "name": "stdout"
        },
        {
          "output_type": "stream",
          "text": [
            "\n",
            " 40%|████      | 4/10 [01:29<02:14, 22.39s/it]\u001b[A"
          ],
          "name": "stderr"
        },
        {
          "output_type": "stream",
          "text": [
            "\n",
            "Computing W for iter 4\n",
            "\n",
            "Computing U for iter 4\n"
          ],
          "name": "stdout"
        },
        {
          "output_type": "stream",
          "text": [
            "\n",
            " 50%|█████     | 5/10 [01:52<01:52, 22.46s/it]\u001b[A"
          ],
          "name": "stderr"
        },
        {
          "output_type": "stream",
          "text": [
            "\n",
            "Computing W for iter 5\n",
            "\n",
            "Computing U for iter 5\n"
          ],
          "name": "stdout"
        },
        {
          "output_type": "stream",
          "text": [
            "\n",
            " 60%|██████    | 6/10 [02:14<01:30, 22.50s/it]\u001b[A"
          ],
          "name": "stderr"
        },
        {
          "output_type": "stream",
          "text": [
            "\n",
            "Computing W for iter 6\n",
            "\n",
            "Computing U for iter 6\n"
          ],
          "name": "stdout"
        },
        {
          "output_type": "stream",
          "text": [
            "\n",
            " 70%|███████   | 7/10 [02:37<01:07, 22.45s/it]\u001b[A"
          ],
          "name": "stderr"
        },
        {
          "output_type": "stream",
          "text": [
            "\n",
            "Computing W for iter 7\n",
            "\n",
            "Computing U for iter 7\n"
          ],
          "name": "stdout"
        },
        {
          "output_type": "stream",
          "text": [
            "\n",
            " 80%|████████  | 8/10 [02:59<00:44, 22.46s/it]\u001b[A"
          ],
          "name": "stderr"
        },
        {
          "output_type": "stream",
          "text": [
            "\n",
            "Computing W for iter 8\n",
            "\n",
            "Computing U for iter 8\n"
          ],
          "name": "stdout"
        },
        {
          "output_type": "stream",
          "text": [
            "\n",
            " 90%|█████████ | 9/10 [03:21<00:22, 22.46s/it]\u001b[A"
          ],
          "name": "stderr"
        },
        {
          "output_type": "stream",
          "text": [
            "\n",
            "Computing W for iter 9\n",
            "\n",
            "Computing U for iter 9\n"
          ],
          "name": "stdout"
        },
        {
          "output_type": "stream",
          "text": [
            "\n",
            "100%|██████████| 10/10 [03:44<00:00, 22.38s/it]\u001b[A\n",
            "\u001b[A"
          ],
          "name": "stderr"
        }
      ]
    },
    {
      "cell_type": "code",
      "metadata": {
        "id": "QyeH0AyvAh_V",
        "colab_type": "code",
        "colab": {
          "base_uri": "https://localhost:8080/",
          "height": 35
        },
        "outputId": "6ad45709-8f7b-4a99-c703-45fa1cd221c0"
      },
      "source": [
        "ans = loss_function(user_item2rating, U, W)\n",
        "print(ans)"
      ],
      "execution_count": 74,
      "outputs": [
        {
          "output_type": "stream",
          "text": [
            "0.8064877356694792\n"
          ],
          "name": "stdout"
        }
      ]
    },
    {
      "cell_type": "code",
      "metadata": {
        "id": "li8FS4p3byzy",
        "colab_type": "code",
        "colab": {}
      },
      "source": [
        ""
      ],
      "execution_count": 0,
      "outputs": []
    }
  ]
}