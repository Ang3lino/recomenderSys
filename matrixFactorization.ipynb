{
  "nbformat": 4,
  "nbformat_minor": 0,
  "metadata": {
    "colab": {
      "name": "matrixFactorization.ipynb",
      "provenance": [],
      "authorship_tag": "ABX9TyOqXM4qA4+7d9TPE3JORKVo",
      "include_colab_link": true
    },
    "kernelspec": {
      "name": "python3",
      "display_name": "Python 3"
    },
    "accelerator": "GPU"
  },
  "cells": [
    {
      "cell_type": "markdown",
      "metadata": {
        "id": "view-in-github",
        "colab_type": "text"
      },
      "source": [
        "<a href=\"https://colab.research.google.com/github/Ang3lino/recomenderSys/blob/master/matrixFactorization.ipynb\" target=\"_parent\"><img src=\"https://colab.research.google.com/assets/colab-badge.svg\" alt=\"Open In Colab\"/></a>"
      ]
    },
    {
      "cell_type": "code",
      "metadata": {
        "id": "SSxoJImBTQXv",
        "colab_type": "code",
        "colab": {}
      },
      "source": [
        ""
      ],
      "execution_count": 0,
      "outputs": []
    },
    {
      "cell_type": "code",
      "metadata": {
        "id": "T8Bp0TVIUKNd",
        "colab_type": "code",
        "colab": {}
      },
      "source": [
        "\n",
        "import numpy as np\n",
        "import pandas as pd\n",
        "\n",
        "import os\n",
        "import random\n",
        "import pickle\n",
        "\n",
        "from sortedcontainers import SortedList\n",
        "from collections import Counter, defaultdict\n",
        "from tqdm import tqdm  # modulo cuya finalidad es dar un feedback del progreso de algun procedimiento"
      ],
      "execution_count": 0,
      "outputs": []
    },
    {
      "cell_type": "code",
      "metadata": {
        "id": "LEbzuxSvUKRb",
        "colab_type": "code",
        "outputId": "07a815d6-89c5-406a-9fcc-54b44ddfc5a2",
        "colab": {
          "base_uri": "https://localhost:8080/",
          "height": 34
        }
      },
      "source": [
        "!pip install tqdm --upgrade\n",
        "tqdm.pandas()"
      ],
      "execution_count": 3,
      "outputs": [
        {
          "output_type": "stream",
          "text": [
            "Requirement already up-to-date: tqdm in /usr/local/lib/python3.6/dist-packages (4.43.0)\n"
          ],
          "name": "stdout"
        }
      ]
    },
    {
      "cell_type": "code",
      "metadata": {
        "id": "YQT4v_rkUdb4",
        "colab_type": "code",
        "outputId": "8813f26f-d566-4551-e5c8-e51a954633ba",
        "colab": {
          "base_uri": "https://localhost:8080/",
          "height": 121
        }
      },
      "source": [
        "from google.colab import drive  \n",
        "drive.mount('/content/drive')"
      ],
      "execution_count": 4,
      "outputs": [
        {
          "output_type": "stream",
          "text": [
            "Go to this URL in a browser: https://accounts.google.com/o/oauth2/auth?client_id=947318989803-6bn6qk8qdgf4n4g3pfee6491hc0brc4i.apps.googleusercontent.com&redirect_uri=urn%3aietf%3awg%3aoauth%3a2.0%3aoob&response_type=code&scope=email%20https%3a%2f%2fwww.googleapis.com%2fauth%2fdocs.test%20https%3a%2f%2fwww.googleapis.com%2fauth%2fdrive%20https%3a%2f%2fwww.googleapis.com%2fauth%2fdrive.photos.readonly%20https%3a%2f%2fwww.googleapis.com%2fauth%2fpeopleapi.readonly\n",
            "\n",
            "Enter your authorization code:\n",
            "··········\n",
            "Mounted at /content/drive\n"
          ],
          "name": "stdout"
        }
      ]
    },
    {
      "cell_type": "code",
      "metadata": {
        "id": "RGX1hEdJUQyq",
        "colab_type": "code",
        "colab": {}
      },
      "source": [
        "def load_object(fname: str, user_count: int, item_count: int) -> defaultdict:\n",
        "    fdir = 'drive/My Drive/petroleo/movielens-20m-dataset'\n",
        "    fname = f'{fname}_{user_count}_{item_count}.json'\n",
        "    fpath = os.path.join(fdir, 'shrinked', fname)\n",
        "    with open(fpath, 'rb') as fp:\n",
        "        object_ = pickle.load(fp)\n",
        "    return object_\n",
        "\n",
        "def defaultdict_set(defdict):\n",
        "    return {k: set(v) for k, v in defdict.items()}\n",
        "\n",
        "\n",
        "user_count = 4096\n",
        "item_count = 512\n",
        "user2item = load_object('user2item', user_count, item_count)\n",
        "item2user = load_object('item2user', user_count, item_count)\n",
        "user_item2rating = load_object('user_item2rating', user_count, item_count)\n"
      ],
      "execution_count": 0,
      "outputs": []
    },
    {
      "cell_type": "markdown",
      "metadata": {
        "id": "UZs-iOaGaeG3",
        "colab_type": "text"
      },
      "source": [
        "\n",
        "# Factorizacion de matrices\n",
        "Con el fin de reducir espacio de almacenamiento y aumentar la velocidad del algoritmo aplicaremos factorizacion de matrices. Aqui, se busca obtener dos matrices cuyo producto aproxime de mejor manera a $R$. Es decir\n",
        "\n",
        "$$R \\approx \\hat R = WU^T$$\n",
        "\n",
        "Asumamos que $R$ con $m$ usuarios y $n$ articulos, donde $W$ es de dimension $m\\times k$ y $U$ es de dimension $n \\times k$. Definamos tambien la funcion de perdida\n",
        "\n",
        "$$ J = \\sum_{i, j} (r_{ij} - \\hat r_{ij})^2 = \\sum_{i,j} (r_{ij} - w_i^T u_j)^2 $$ \n",
        "\n",
        "Como de costumbre, se busca minimizar la funcion $J$, derivando parcialmente e igualando a cero tenemos.\n",
        "\n",
        "$$ w_{i} = (\\sum_{j\\in\\psi_i}u_ju_j^T)^{-1} \\sum_{j\\in\\psi_i}r_{ij}u_j$$\n",
        "$$ u_{j} = (\\sum_{i\\in\\Omega_j}w_iw_i^T)^{-1} \\sum_{i\\in\\Omega_j}r_{ij}w_i$$"
      ]
    },
    {
      "cell_type": "code",
      "metadata": {
        "id": "WejLOai9URXL",
        "colab_type": "code",
        "colab": {}
      },
      "source": [
        "def loss_function(ratings: dict, u, w):\n",
        "    ''' r[(i, j)] -> int '''\n",
        "    return sum((r - w[i].dot(u[j])) ** 2 for (i, j), r in ratings.items())\n",
        "\n",
        "def solve_system(X: np.array, R: dict):\n",
        "    matrix = np.zeros(k, k)\n",
        "    vector = np.zeros(k)\n",
        "    for i in I:\n",
        "        for j in J:\n",
        "            matrix += np.outer(X[j], X[j])\n",
        "            vector += np.dot(R[(i,j)], X[j])\n",
        "        X[i] = np.linalg.solve(matrix, vector)\n",
        "    \n",
        "\n",
        "def fit(R: dict, I: iter, J: iter, epochs: int, k: int):\n",
        "    m = max(I) + 1\n",
        "    n = max(J) + 1\n",
        "    W = random.randn(m, k)\n",
        "    U = random.randn(n, k)\n",
        "    for epoch in tqdm(range(epochs)):\n",
        "        solve_system(W, R)\n",
        "        solve_system(U, R)\n"
      ],
      "execution_count": 0,
      "outputs": []
    },
    {
      "cell_type": "code",
      "metadata": {
        "id": "7vpQhEJIZxuE",
        "colab_type": "code",
        "colab": {
          "base_uri": "https://localhost:8080/",
          "height": 90
        },
        "outputId": "14344843-20f0-4077-e73f-e0ed31920b7a"
      },
      "source": [
        "a = np.array([[1,2],[3,4]])\n",
        "np.outer(a,a)"
      ],
      "execution_count": 8,
      "outputs": [
        {
          "output_type": "execute_result",
          "data": {
            "text/plain": [
              "array([[ 1,  2,  3,  4],\n",
              "       [ 2,  4,  6,  8],\n",
              "       [ 3,  6,  9, 12],\n",
              "       [ 4,  8, 12, 16]])"
            ]
          },
          "metadata": {
            "tags": []
          },
          "execution_count": 8
        }
      ]
    },
    {
      "cell_type": "code",
      "metadata": {
        "id": "mC1mo2ioma7Q",
        "colab_type": "code",
        "colab": {
          "base_uri": "https://localhost:8080/",
          "height": 90
        },
        "outputId": "f59c3ebc-c16b-420c-ef93-b0ff501d881d"
      },
      "source": [
        "b = np.array([1,2,3,4])\n",
        "np.outer(b,b)"
      ],
      "execution_count": 9,
      "outputs": [
        {
          "output_type": "execute_result",
          "data": {
            "text/plain": [
              "array([[ 1,  2,  3,  4],\n",
              "       [ 2,  4,  6,  8],\n",
              "       [ 3,  6,  9, 12],\n",
              "       [ 4,  8, 12, 16]])"
            ]
          },
          "metadata": {
            "tags": []
          },
          "execution_count": 9
        }
      ]
    },
    {
      "cell_type": "code",
      "metadata": {
        "id": "GGPVasflnDCb",
        "colab_type": "code",
        "colab": {}
      },
      "source": [
        ""
      ],
      "execution_count": 0,
      "outputs": []
    }
  ]
}