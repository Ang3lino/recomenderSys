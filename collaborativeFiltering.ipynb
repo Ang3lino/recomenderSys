{
  "nbformat": 4,
  "nbformat_minor": 0,
  "metadata": {
    "colab": {
      "name": "collaborativeFiltering.ipynb",
      "provenance": [],
      "authorship_tag": "ABX9TyPG8xnhAAy3796LN6BNWutZ",
      "include_colab_link": true
    },
    "kernelspec": {
      "name": "python3",
      "display_name": "Python 3"
    },
    "accelerator": "GPU"
  },
  "cells": [
    {
      "cell_type": "markdown",
      "metadata": {
        "id": "view-in-github",
        "colab_type": "text"
      },
      "source": [
        "<a href=\"https://colab.research.google.com/github/Ang3lino/recomenderSys/blob/master/collaborativeFiltering.ipynb\" target=\"_parent\"><img src=\"https://colab.research.google.com/assets/colab-badge.svg\" alt=\"Open In Colab\"/></a>"
      ]
    },
    {
      "cell_type": "code",
      "metadata": {
        "id": "Q31kxjIkMTes",
        "colab_type": "code",
        "colab": {}
      },
      "source": [
        ""
      ],
      "execution_count": 0,
      "outputs": []
    },
    {
      "cell_type": "code",
      "metadata": {
        "id": "DdvcZaPOMoAF",
        "colab_type": "code",
        "colab": {}
      },
      "source": [
        "\n",
        "import numpy as np\n",
        "import pandas as pd\n",
        "\n",
        "import os\n",
        "import pickle\n",
        "\n",
        "from sortedcontainers import SortedList\n",
        "from collections import Counter, defaultdict\n",
        "from tqdm import tqdm  # modulo cuya finalidad es dar un feedback del progreso de algun procedimiento"
      ],
      "execution_count": 0,
      "outputs": []
    },
    {
      "cell_type": "code",
      "metadata": {
        "id": "dI7mgvgZMp2l",
        "colab_type": "code",
        "outputId": "4a371715-462c-46bc-fde8-fe52612a0f53",
        "colab": {
          "base_uri": "https://localhost:8080/",
          "height": 34
        }
      },
      "source": [
        "\n",
        "!pip install tqdm"
      ],
      "execution_count": 0,
      "outputs": [
        {
          "output_type": "stream",
          "text": [
            "Requirement already satisfied: tqdm in /usr/local/lib/python3.6/dist-packages (4.28.1)\n"
          ],
          "name": "stdout"
        }
      ]
    },
    {
      "cell_type": "markdown",
      "metadata": {
        "id": "VV1GChS6OoUz",
        "colab_type": "text"
      },
      "source": [
        "# User-Based Neighborhood Models\n",
        "En este enfoque, user-based neighborhoods son definidos con el fin de identificar usuario similares a el usuario objetivo con el fin de predecir valoraciones que el daria a un articulo.\n",
        "\n",
        "Para la matrix de valoraciones $m \\times n$, $R = [r_{ui}]$ con $m$ usuarios y $n$ articulos. Definamos $I_u$ el conjunto de indices de articulos que el usuario $u$ ha valorado (una fila). El conjunto $I_u \\cap I_v$ define las observaciones mutuamente observadas."
      ]
    },
    {
      "cell_type": "code",
      "metadata": {
        "id": "rn1CVrqQObWW",
        "colab_type": "code",
        "outputId": "ba7791f2-83de-4f1e-f789-f3b1d4ccadb9",
        "colab": {
          "base_uri": "https://localhost:8080/",
          "height": 121
        }
      },
      "source": [
        "from google.colab import drive  \n",
        "drive.mount('/content/drive')"
      ],
      "execution_count": 0,
      "outputs": [
        {
          "output_type": "stream",
          "text": [
            "Go to this URL in a browser: https://accounts.google.com/o/oauth2/auth?client_id=947318989803-6bn6qk8qdgf4n4g3pfee6491hc0brc4i.apps.googleusercontent.com&redirect_uri=urn%3aietf%3awg%3aoauth%3a2.0%3aoob&response_type=code&scope=email%20https%3a%2f%2fwww.googleapis.com%2fauth%2fdocs.test%20https%3a%2f%2fwww.googleapis.com%2fauth%2fdrive%20https%3a%2f%2fwww.googleapis.com%2fauth%2fdrive.photos.readonly%20https%3a%2f%2fwww.googleapis.com%2fauth%2fpeopleapi.readonly\n",
            "\n",
            "Enter your authorization code:\n",
            "··········\n",
            "Mounted at /content/drive\n"
          ],
          "name": "stdout"
        }
      ]
    },
    {
      "cell_type": "code",
      "metadata": {
        "id": "budIluW4ObUe",
        "colab_type": "code",
        "colab": {}
      },
      "source": [
        "def load_object(fname: str, user_count: int, item_count: int) -> defaultdict:\n",
        "    fdir = 'drive/My Drive/petroleo/movielens-20m-dataset'\n",
        "    fname = f'{fname}_{user_count}_{item_count}.json'\n",
        "    fpath = os.path.join(fdir, 'shrinked', fname)\n",
        "    with open(fpath, 'rb') as fp:\n",
        "        object_ = pickle.load(fp)\n",
        "    return object_\n",
        "\n",
        "def defaultdict_set(defdict):\n",
        "    return {k: set(v) for k, v in defdict.items()}\n",
        "\n",
        "\n",
        "user_count = 4096\n",
        "item_count = 512\n",
        "user2item = load_object('user2item', user_count, item_count)\n",
        "item2user = load_object('item2user', user_count, item_count)\n",
        "user_item2rating = load_object('user_item2rating', user_count, item_count)\n",
        "\n",
        "user2item = defaultdict_set(user2item)"
      ],
      "execution_count": 0,
      "outputs": []
    },
    {
      "cell_type": "markdown",
      "metadata": {
        "id": "3dzRCxWO3vnB",
        "colab_type": "text"
      },
      "source": [
        "# Pearson\n",
        "Una medida que captura la similitud $Sim(u, v)$ entre los vectores de valoracion entre usuarios $u,v$ es el coeficiente de correlacion de Pearson. El primer paso es calcular las medias de valoracion $\\mu_u$ para cada usuario $u$:\n",
        "\n",
        "$$ \\mu_u = \\frac{\\sum_{k\\in I_u}r_{uk}}{|I_u|} $$\n",
        "\n",
        "Asi, la correlacion de Parson se define como \n",
        "\n",
        "$$ Sim(u, v) = Pearson(u, v) = \\frac{\\sum_{k \\in I_u \\cap I_v}(r_{uk} - \\mu_u)(r_{vk} - \\mu_v)}\n",
        "{\\sqrt{\\sum_{k \\in I_u \\cap I_v}(r_{uk} - \\mu_u)^2 }  \\sqrt{ \\sum_{k \\in I_u \\cap I_v}(r_{vk} - \\mu_v)^2 } \n",
        "} $$\n",
        "\n"
      ]
    },
    {
      "cell_type": "code",
      "metadata": {
        "id": "CoYnIcRxObR5",
        "colab_type": "code",
        "colab": {}
      },
      "source": [
        "def user_means(user_item2rating: dict, user2item: defaultdict) -> dict:\n",
        "    means = dict() \n",
        "    for u, items in user2item.items():\n",
        "        means[u] = np.mean([user_item2rating[(u, i)] for i in items])\n",
        "    return means\n",
        "\n",
        "def sim_cos(u: np.array, v: np.array):\n",
        "    dot = lambda u, v: u.dot(v)\n",
        "    sigma = lambda u, v: np.sqrt(dot(u, v))\n",
        "    num = dot(u, v)\n",
        "    den = sigma(u, u) * sigma(v, v)\n",
        "    return num / den\n",
        "    \n",
        "\n",
        "def sim_pearson(u: int, v: int, means: dict, user2item: defaultdict, user_item2rating: dict):\n",
        "    intersection = user2item[u] & user2item[v]\n",
        "    a = np.array([user_item2rating[u, k] for k in intersection]) - means[u]\n",
        "    b = np.array([user_item2rating[v, k] for k in intersection]) - means[v]\n",
        "    return sim_cos(a, b)\n",
        "\n"
      ],
      "execution_count": 0,
      "outputs": []
    },
    {
      "cell_type": "code",
      "metadata": {
        "id": "fBhZzfC-ObPU",
        "colab_type": "code",
        "outputId": "76235989-1298-46d1-f8cd-47e820101dc6",
        "colab": {
          "base_uri": "https://localhost:8080/",
          "height": 34
        }
      },
      "source": [
        "means = user_means(user_item2rating, user2item)\n",
        "ans = sim_pearson(1, 5, means, user2item, user_item2rating)\n",
        "print(ans)"
      ],
      "execution_count": 0,
      "outputs": [
        {
          "output_type": "stream",
          "text": [
            "0.11996713555118083\n"
          ],
          "name": "stdout"
        }
      ]
    },
    {
      "cell_type": "markdown",
      "metadata": {
        "id": "itBQdu3zZKml",
        "colab_type": "text"
      },
      "source": [
        "# Prediccion\n",
        "Sea $P_u(j)$ el conjunto de los k usuarios mas cercanos del usuario $u$, quienes han valorado el articulo $j$. Usuarios con un muy bajo o negativas correlaciones con el usuario $u$ son filtrados por $P_u(j)$ como una mejora heuristica. Asi, la funcion de prediccion se describe como: \n",
        "\n",
        "$$\\hat{r_{uj}} = \\mu_u + \\frac{\\sum_{v\\in P_u(j)}Sim(u,v)(r_{vj}-\\mu_v)}{\\sum_{v\\in P_u(j)}|Sim(u, v)|} $$"
      ]
    },
    {
      "cell_type": "code",
      "metadata": {
        "id": "IsK-IifFObCF",
        "colab_type": "code",
        "colab": {}
      },
      "source": [
        "def euclidean_distance(u, v):\n",
        "    return np.sqrt(np.sum((u - v) ** 2))\n",
        "\n",
        "def neighbors(x_vec, y_cls, p_i, k=3):\n",
        "    dist_class = [(euclidean_distance(x_i, p_i), y_cls[i]) for i, x_i in enumerate(x_vec)]\n",
        "    sorted_distance = sorted(dist_class, key=lambda x: x[0])[:k]\n",
        "    return [y_i for (_, y_i) in sorted_distance]\n",
        "\n",
        "def closest_users(u: int, j: int, item2user, user_item2rating):\n",
        "    users = item2user[j]\n",
        "    ratings = [user_item2rating[user, j] for user in users]\n",
        "    closests = neighbors(ratings, users, user_item2rating[(u, j)])\n",
        "    return closests\n"
      ],
      "execution_count": 0,
      "outputs": []
    },
    {
      "cell_type": "code",
      "metadata": {
        "id": "_jaEqiAOE0n8",
        "colab_type": "code",
        "outputId": "57dcc06c-1273-4acc-c08c-c59eb8ea9e4e",
        "colab": {
          "base_uri": "https://localhost:8080/",
          "height": 34
        }
      },
      "source": [
        "u = 1\n",
        "j = 2\n",
        "closest_users(u, j, item2user, user_item2rating)"
      ],
      "execution_count": 45,
      "outputs": [
        {
          "output_type": "execute_result",
          "data": {
            "text/plain": [
              "[405.0, 691.0, 1005.0]"
            ]
          },
          "metadata": {
            "tags": []
          },
          "execution_count": 45
        }
      ]
    },
    {
      "cell_type": "code",
      "metadata": {
        "id": "tywAlUmDE7P9",
        "colab_type": "code",
        "colab": {}
      },
      "source": [
        "def predict_rating(u: int, j: int, means: dict, user2item, item2user, user_item2rating):\n",
        "    k_closest = closest_users(u, j, item2user, user_item2rating)\n",
        "    similars = np.array([sim_pearson(u, v, means, user2item, user_item2rating) for v in k_closest])\n",
        "    s_vj = np.array([user_item2rating[(v, j)] - means[v] for v in k_closest])\n",
        "    num = np.sum(similars * s_vj ) \n",
        "    den = np.sum(list(map(abs, similars)))\n",
        "    return means[u] + num/den"
      ],
      "execution_count": 0,
      "outputs": []
    },
    {
      "cell_type": "code",
      "metadata": {
        "id": "ja6Rp1RuMVxA",
        "colab_type": "code",
        "outputId": "a29a585e-fa7d-48ec-82dd-26ae0862d863",
        "colab": {
          "base_uri": "https://localhost:8080/",
          "height": 50
        }
      },
      "source": [
        "r_pred = predict_rating(u, j, means, user2item, item2user, user_item2rating)\n",
        "print(r_pred)\n",
        "print(user_item2rating[(u, j)])"
      ],
      "execution_count": 47,
      "outputs": [
        {
          "output_type": "stream",
          "text": [
            "4.629527360969084\n",
            "4.0\n"
          ],
          "name": "stdout"
        }
      ]
    },
    {
      "cell_type": "code",
      "metadata": {
        "id": "1ZYV8w5-Mjph",
        "colab_type": "code",
        "colab": {}
      },
      "source": [
        "def predict(user2item, item2user, user_item2rating, batch_size: int) -> dict:\n",
        "    predictions = dict()\n",
        "    # n = len(user2item)\n",
        "    count = 0\n",
        "    for u, items in user2item.items():\n",
        "        for i in items:\n",
        "            predictions[(u, i)] = predict_rating(u, i, means, user2item, item2user, user_item2rating)\n",
        "            count += 1\n",
        "        if count > batch_size: break\n",
        "    return predictions\n",
        "\n",
        "def mse(y_true, y_pred):\n",
        "    return np.sqrt(np.sum((y_true - y_pred) ** 2))"
      ],
      "execution_count": 0,
      "outputs": []
    },
    {
      "cell_type": "code",
      "metadata": {
        "id": "S7xIgE0iWdoT",
        "colab_type": "code",
        "outputId": "b5e4e9a6-b383-4d3d-dcdd-0a4ef22acf59",
        "colab": {
          "base_uri": "https://localhost:8080/",
          "height": 50
        }
      },
      "source": [
        "%time preds = predict(user2item, item2user, user_item2rating, 100)"
      ],
      "execution_count": 63,
      "outputs": [
        {
          "output_type": "stream",
          "text": [
            "CPU times: user 6.51 s, sys: 7 ms, total: 6.52 s\n",
            "Wall time: 6.54 s\n"
          ],
          "name": "stdout"
        }
      ]
    },
    {
      "cell_type": "code",
      "metadata": {
        "id": "9iAjeQYQW6Zx",
        "colab_type": "code",
        "outputId": "61cb1616-ac67-4d15-fbb0-4b8508bb6503",
        "colab": {
          "base_uri": "https://localhost:8080/",
          "height": 1000
        }
      },
      "source": [
        "debug = True\n",
        "acc = 0\n",
        "for u, i in preds.keys():\n",
        "    x = preds[u, i] \n",
        "    y = user_item2rating[u, i]\n",
        "    if debug: print(x, y)\n",
        "    acc += (x - y) ** 2 \n",
        "print(np.sqrt(acc))"
      ],
      "execution_count": 64,
      "outputs": [
        {
          "output_type": "stream",
          "text": [
            "4.085048612653084 4.0\n",
            "3.1179143597964023 3.0\n",
            "2.991131300344831 3.0\n",
            "3.1492853891721664 3.0\n",
            "3.9911313003448314 4.0\n",
            "4.946395968567048 5.0\n",
            "2.150096136419229 2.0\n",
            "2.1863032393366044 2.0\n",
            "2.1388294198290376 2.0\n",
            "3.094144789288019 3.0\n",
            "2.1335539832734645 2.0\n",
            "3.933888167657611 4.0\n",
            "4.933888167657611 5.0\n",
            "2.2522257995102173 2.0\n",
            "5.031052034256797 5.0\n",
            "2.259580725633232 2.0\n",
            "4.0439845791225215 4.0\n",
            "3.932085949435386 4.0\n",
            "4.071729890093563 4.0\n",
            "4.121903358745572 4.0\n",
            "3.098664487084926 3.0\n",
            "4.046114366429273 4.0\n",
            "3.9911313003448314 4.0\n",
            "2.288201286983692 2.0\n",
            "4.991131300344831 5.0\n",
            "3.101056786269148 3.0\n",
            "3.2647869200427664 3.0\n",
            "3.2647869200427664 3.0\n",
            "4.001273636137011 4.0\n",
            "3.060306265253589 3.0\n",
            "3.9911313003448314 4.0\n",
            "3.2647869200427664 3.0\n",
            "4.133353339857471 4.0\n",
            "5.226686990482238 5.0\n",
            "3.067921850630901 3.0\n",
            "2.991131300344831 3.0\n",
            "4.067921850630901 4.0\n",
            "3.176484215668627 3.0\n",
            "3.932085949435386 4.0\n",
            "5.041109067765025 5.0\n",
            "3.05967528183247 3.0\n",
            "3.9421942792253546 4.0\n",
            "3.921804649644094 4.0\n",
            "2.9562120238202088 3.0\n",
            "3.117085030304906 3.0\n",
            "2.9898741934447215 3.0\n",
            "4.0743391233978485 4.0\n",
            "1.9688339390369038 2.0\n",
            "3.952244446584974 4.0\n",
            "3.932085949435386 4.0\n",
            "1.1106705620523347 1.0\n",
            "5.0157856295379535 5.0\n",
            "3.094144789288019 3.0\n",
            "4.952244446584974 5.0\n",
            "2.35070780069243 2.0\n",
            "3.298260662558042 3.0\n",
            "4.991131300344831 5.0\n",
            "5.012663272399174 5.0\n",
            "4.002955407666543 4.0\n",
            "3.077749876135301 3.0\n",
            "4.115392192443408 4.0\n",
            "3.9911313003448314 4.0\n",
            "1.094144789288019 1.0\n",
            "4.060306265253589 4.0\n",
            "3.0834041095285536 3.0\n",
            "4.942194279225355 5.0\n",
            "2.9414070184863514 3.0\n",
            "3.932085949435386 4.0\n",
            "3.0755099470159317 3.0\n",
            "3.094144789288019 3.0\n",
            "4.083404109528553 4.0\n",
            "4.112963167404215 4.0\n",
            "4.02252055645873 4.0\n",
            "2.991131300344831 3.0\n",
            "3.1333533398574707 3.0\n",
            "4.085048612653084 4.0\n",
            "3.9421942792253546 4.0\n",
            "4.991131300344831 5.0\n",
            "3.9421942792253546 4.0\n",
            "4.952244446584974 5.0\n",
            "3.028278788101365 3.0\n",
            "3.952244446584974 4.0\n",
            "4.942194279225355 5.0\n",
            "4.094144789288019 4.0\n",
            "3.9911313003448314 4.0\n",
            "2.9501848946882503 3.0\n",
            "5.044130625599699 5.0\n",
            "4.941407018486352 5.0\n",
            "3.952244446584974 4.0\n",
            "3.1080388140010813 3.0\n",
            "4.066999028552202 4.0\n",
            "4.010122182474425 4.0\n",
            "3.23947319322296 3.0\n",
            "4.024353674354053 4.0\n",
            "3.9501848946882503 4.0\n",
            "4.112819184464603 4.0\n",
            "2.240416775624211 2.0\n",
            "2.286544332703029 2.0\n",
            "2.9501848946882503 3.0\n",
            "3.035584187308159 3.0\n",
            "4.085048612653084 4.0\n",
            "4.991131300344831 5.0\n",
            "4.991131300344831 5.0\n",
            "4.968847446120576 5.0\n",
            "4.932085949435386 5.0\n",
            "3.1179143597964023 3.0\n",
            "5.018705343793192 5.0\n",
            "4.991131300344831 5.0\n",
            "3.077749876135301 3.0\n",
            "3.040844144155209 3.0\n",
            "3.26242295951704 3.0\n",
            "4.950184894688251 5.0\n",
            "4.110650851983319 4.0\n",
            "4.996760032301019 5.0\n",
            "3.0461143664292734 3.0\n",
            "4.067638125517921 4.0\n",
            "3.9911313003448314 4.0\n",
            "4.991131300344831 5.0\n",
            "3.1013405974010797 3.0\n",
            "5.023989294220364 5.0\n",
            "4.942194279225355 5.0\n",
            "3.161457061804679 3.0\n",
            "4.117914359796402 4.0\n",
            "2.991131300344831 3.0\n",
            "3.952244446584974 4.0\n",
            "3.9414070184863514 4.0\n",
            "4.921804649644094 5.0\n",
            "4.90088559717497 5.0\n",
            "4.941407018486352 5.0\n",
            "3.952244446584974 4.0\n",
            "4.968935325110708 5.0\n",
            "4.020908724777213 4.0\n",
            "4.045872331842434 4.0\n",
            "2.991131300344831 3.0\n",
            "3.952244446584974 4.0\n",
            "2.3186363548626048 2.0\n",
            "3.1190394782300617 3.0\n",
            "4.031545516791746 4.0\n",
            "4.988335431804608 5.0\n",
            "3.1653002829619377 3.0\n",
            "4.017905379673205 4.0\n",
            "4.991131300344831 5.0\n",
            "4.045872331842434 4.0\n",
            "3.298260662558042 3.0\n",
            "3.240416775624211 3.0\n",
            "4.045872331842434 4.0\n",
            "4.112177801418839 4.0\n",
            "3.0582021421728265 3.0\n",
            "4.991131300344831 5.0\n",
            "4.085048612653084 4.0\n",
            "3.1129631674042146 3.0\n",
            "5.016208062123915 5.0\n",
            "4.035989724598866 4.0\n",
            "4.0891821073544605 4.0\n",
            "4.259580725633232 4.0\n",
            "3.9911313003448314 4.0\n",
            "3.9689353251107087 4.0\n",
            "3.288201286983692 3.0\n",
            "4.046114366429273 4.0\n",
            "5.075509947015931 5.0\n",
            "4.952244446584974 5.0\n",
            "4.991131300344831 5.0\n",
            "3.952244446584974 4.0\n",
            "4.032103102383685 4.0\n",
            "3.952244446584974 4.0\n",
            "4.02252055645873 4.0\n",
            "3.2636694104079127 3.0\n",
            "3.2540483112913794 3.0\n",
            "4.968935325110708 5.0\n",
            "4.247025914898033 4.0\n",
            "4.114096080505053 4.0\n",
            "3.9742798750381336 4.0\n",
            "3.131730192666982 3.0\n",
            "2.9414070184863514 3.0\n",
            "4.019139457277301 4.0\n",
            "4.932085949435386 5.0\n",
            "4.952244446584974 5.0\n",
            "3.0834041095285536 3.0\n",
            "5.046114366429274 5.0\n",
            "4.034623422051768 4.0\n",
            "3.2522257995102177 3.0\n",
            "4.085048612653084 4.0\n",
            "3.298260662558042 3.0\n",
            "5.0296738333151225 5.0\n",
            "4.079137483902948 4.0\n",
            "4.025620893057653 4.0\n",
            "5.039158689974902 5.0\n",
            "5.012496865657268 5.0\n",
            "4.991131300344831 5.0\n",
            "4.950184894688251 5.0\n",
            "4.02056510941379 4.0\n",
            "4.241436267339129 4.0\n",
            "3.919610883746466 4.0\n",
            "4.05993602652469 4.0\n",
            "4.035989724598866 4.0\n",
            "3.9911313003448314 4.0\n",
            "5.046186100778933 5.0\n",
            "5.083735236308674 5.0\n",
            "4.785039973152393 5.0\n",
            "4.974650708044165 5.0\n",
            "4.009649754931935 4.0\n",
            "3.9947922625769117 4.0\n",
            "5.071729890093563 5.0\n",
            "3.9259428107877925 4.0\n",
            "4.998644550725062 5.0\n",
            "4.0074350011523165 4.0\n",
            "2.1390385992973475 2.0\n",
            "4.952244446584974 5.0\n",
            "3.12352552447558 3.0\n",
            "4.991131300344831 5.0\n",
            "4.12352552447558 4.0\n",
            "3.0458723318424337 3.0\n",
            "4.259580725633232 4.0\n",
            "4.991131300344831 5.0\n",
            "3.2390122021970003 3.0\n",
            "4.241436267339129 4.0\n",
            "4.24345579386477 4.0\n",
            "4.066774648756745 4.0\n",
            "4.133353339857471 4.0\n",
            "4.067921850630901 4.0\n",
            "3.0850486126530843 3.0\n",
            "2.9947922625769117 3.0\n",
            "3.1253449400067552 3.0\n",
            "2.0006725146692057 2.0\n",
            "3.9911313003448314 4.0\n",
            "4.066774648756745 4.0\n",
            "5.037669861977697 5.0\n",
            "4.0247445385210305 4.0\n",
            "3.067921850630901 3.0\n",
            "3.9911313003448314 4.0\n",
            "3.2662405542947104 3.0\n",
            "4.942194279225355 5.0\n",
            "4.060306265253589 4.0\n",
            "3.088070866859906 3.0\n",
            "3.9501848946882503 4.0\n",
            "2.9898741934447215 3.0\n",
            "4.025620893057653 4.0\n",
            "4.0430387453854095 4.0\n",
            "3.9911313003448314 4.0\n",
            "3.1129631674042146 3.0\n",
            "4.133353339857471 4.0\n",
            "4.083404109528553 4.0\n",
            "4.263669410407913 4.0\n",
            "3.0461143664292734 3.0\n",
            "2.2470259148980327 2.0\n",
            "1.1396474341301883 1.0\n",
            "3.2662405542947104 3.0\n",
            "4.886805884382353 5.0\n",
            "3.9911313003448314 4.0\n",
            "3.9911313003448314 4.0\n",
            "2.9501848946882503 3.0\n",
            "4.085048612653084 4.0\n",
            "5.06124189578973 5.0\n",
            "3.0191394572773014 3.0\n",
            "5.021755809273525 5.0\n",
            "3.9911313003448314 4.0\n",
            "3.9911313003448314 4.0\n",
            "4.060306265253589 4.0\n",
            "4.083404109528553 4.0\n",
            "3.9898741934447215 4.0\n",
            "4.020921582201302 4.0\n",
            "5.133353339857471 5.0\n",
            "3.998416904781957 4.0\n",
            "3.952244446584974 4.0\n",
            "3.0217558092735257 3.0\n",
            "3.952244446584974 4.0\n",
            "1.859273725399679\n"
          ],
          "name": "stdout"
        }
      ]
    },
    {
      "cell_type": "code",
      "metadata": {
        "id": "Jna7E3xff6Ei",
        "colab_type": "code",
        "colab": {}
      },
      "source": [
        ""
      ],
      "execution_count": 0,
      "outputs": []
    }
  ]
}