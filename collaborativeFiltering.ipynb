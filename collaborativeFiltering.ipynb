{
  "nbformat": 4,
  "nbformat_minor": 0,
  "metadata": {
    "colab": {
      "name": "collaborativeFiltering.ipynb",
      "provenance": [],
      "authorship_tag": "ABX9TyPr5M5xVGOXGTSbAcS8gLe+",
      "include_colab_link": true
    },
    "kernelspec": {
      "name": "python3",
      "display_name": "Python 3"
    }
  },
  "cells": [
    {
      "cell_type": "markdown",
      "metadata": {
        "id": "view-in-github",
        "colab_type": "text"
      },
      "source": [
        "<a href=\"https://colab.research.google.com/github/Ang3lino/recomenderSys/blob/master/collaborativeFiltering.ipynb\" target=\"_parent\"><img src=\"https://colab.research.google.com/assets/colab-badge.svg\" alt=\"Open In Colab\"/></a>"
      ]
    },
    {
      "cell_type": "code",
      "metadata": {
        "id": "Q31kxjIkMTes",
        "colab_type": "code",
        "colab": {}
      },
      "source": [
        ""
      ],
      "execution_count": 0,
      "outputs": []
    },
    {
      "cell_type": "code",
      "metadata": {
        "id": "DdvcZaPOMoAF",
        "colab_type": "code",
        "colab": {}
      },
      "source": [
        "\n",
        "import numpy as np\n",
        "import pandas as pd\n",
        "\n",
        "import os\n",
        "import pickle\n",
        "\n",
        "from sortedcontainers import SortedList\n",
        "from collections import Counter, defaultdict\n",
        "from tqdm import tqdm  # modulo cuya finalidad es dar un feedback del progreso de algun procedimiento"
      ],
      "execution_count": 0,
      "outputs": []
    },
    {
      "cell_type": "code",
      "metadata": {
        "id": "dI7mgvgZMp2l",
        "colab_type": "code",
        "colab": {
          "base_uri": "https://localhost:8080/",
          "height": 34
        },
        "outputId": "87f862aa-2b22-494d-bb37-3ae7c679840b"
      },
      "source": [
        "\n",
        "!pip install tqdm"
      ],
      "execution_count": 21,
      "outputs": [
        {
          "output_type": "stream",
          "text": [
            "Requirement already satisfied: tqdm in /usr/local/lib/python3.6/dist-packages (4.43.0)\n"
          ],
          "name": "stdout"
        }
      ]
    },
    {
      "cell_type": "markdown",
      "metadata": {
        "id": "VV1GChS6OoUz",
        "colab_type": "text"
      },
      "source": [
        "# User-Based Neighborhood Models\n",
        "En este enfoque, user-based neighborhoods son definidos con el fin de identificar usuario similares a el usuario objetivo con el fin de predecir valoraciones que el daria a un articulo.\n",
        "\n",
        "Para la matrix de valoraciones $m \\times n$, $R = [r_{ui}]$ con $m$ usuarios y $n$ articulos. Definamos $I_u$ el conjunto de indices de articulos que el usuario $u$ ha valorado (una fila). El conjunto $I_u \\cap I_v$ define las observaciones mutuamente observadas."
      ]
    },
    {
      "cell_type": "code",
      "metadata": {
        "id": "rn1CVrqQObWW",
        "colab_type": "code",
        "colab": {
          "base_uri": "https://localhost:8080/",
          "height": 121
        },
        "outputId": "a689be3a-da68-47d8-a3a1-2a3222fee10c"
      },
      "source": [
        "from google.colab import drive  \n",
        "drive.mount('/content/drive')"
      ],
      "execution_count": 5,
      "outputs": [
        {
          "output_type": "stream",
          "text": [
            "Go to this URL in a browser: https://accounts.google.com/o/oauth2/auth?client_id=947318989803-6bn6qk8qdgf4n4g3pfee6491hc0brc4i.apps.googleusercontent.com&redirect_uri=urn%3aietf%3awg%3aoauth%3a2.0%3aoob&response_type=code&scope=email%20https%3a%2f%2fwww.googleapis.com%2fauth%2fdocs.test%20https%3a%2f%2fwww.googleapis.com%2fauth%2fdrive%20https%3a%2f%2fwww.googleapis.com%2fauth%2fdrive.photos.readonly%20https%3a%2f%2fwww.googleapis.com%2fauth%2fpeopleapi.readonly\n",
            "\n",
            "Enter your authorization code:\n",
            "··········\n",
            "Mounted at /content/drive\n"
          ],
          "name": "stdout"
        }
      ]
    },
    {
      "cell_type": "code",
      "metadata": {
        "id": "budIluW4ObUe",
        "colab_type": "code",
        "colab": {}
      },
      "source": [
        "def load_object(fname: str, user_count: int, item_count: int) -> defaultdict:\n",
        "    fdir = 'drive/My Drive/petroleo/movielens-20m-dataset'\n",
        "    fname = f'{fname}_{user_count}_{item_count}.json'\n",
        "    fpath = os.path.join(fdir, 'shrinked', fname)\n",
        "    with open(fpath, 'rb') as fp:\n",
        "        object_ = pickle.load(fp)\n",
        "    return object_\n",
        "\n",
        "def defaultdict_set(defdict):\n",
        "    return {k: set(v) for k, v in defdict.items()}\n",
        "\n",
        "\n",
        "user_count = 4096\n",
        "item_count = 512\n",
        "user2item = load_object('user2item', user_count, item_count)\n",
        "item2user = load_object('item2user', user_count, item_count)\n",
        "user_item2rating = load_object('user_item2rating', user_count, item_count)\n",
        "\n",
        "user2item = defaultdict_set(user2item)"
      ],
      "execution_count": 0,
      "outputs": []
    },
    {
      "cell_type": "markdown",
      "metadata": {
        "id": "3dzRCxWO3vnB",
        "colab_type": "text"
      },
      "source": [
        "# Pearson\n",
        "Una medida que captura la similitud $Sim(u, v)$ entre los vectores de valoracion entre usuarios $u,v$ es el coeficiente de correlacion de Pearson. El primer paso es calcular las medias de valoracion $\\mu_u$ para cada usuario $u$:\n",
        "\n",
        "$$ \\mu_u = \\frac{\\sum_{k\\in I_u}r_{uk}}{|I_u|} $$\n",
        "\n",
        "Asi, la correlacion de Parson se define como \n",
        "\n",
        "$$ Sim(u, v) = Pearson(u, v) = \\frac{\\sum_{k \\in I_u \\cap I_v}(r_{uk} - \\mu_u)(r_{vk} - \\mu_v)}\n",
        "{\\sqrt{\\sum_{k \\in I_u \\cap I_v}(r_{uk} - \\mu_u)^2 }  \\sqrt{ \\sum_{k \\in I_u \\cap I_v}(r_{vk} - \\mu_v)^2 } \n",
        "} $$\n",
        "\n"
      ]
    },
    {
      "cell_type": "code",
      "metadata": {
        "id": "CoYnIcRxObR5",
        "colab_type": "code",
        "colab": {}
      },
      "source": [
        "def user_means(user_item2rating: dict, user2item: defaultdict) -> dict:\n",
        "    means = dict() \n",
        "    for u, items in user2item.items():\n",
        "        means[u] = np.mean([user_item2rating[(u, i)] for i in items])\n",
        "    return means\n",
        "\n",
        "def sim_cos(u: np.array, v: np.array):\n",
        "    dot = lambda u, v: u.dot(v)\n",
        "    sigma = lambda u, v: np.sqrt(dot(u, v))\n",
        "    num = dot(u, v)\n",
        "    den = sigma(u, u) * sigma(v, v)\n",
        "    return num / den\n",
        "    \n",
        "\n",
        "def sim_pearson(u: int, v: int, means: dict, user2item: defaultdict, user_item2rating: dict):\n",
        "    intersection = user2item[u] & user2item[v]\n",
        "    a = np.array([user_item2rating[u, k] for k in intersection]) - means[u]\n",
        "    b = np.array([user_item2rating[v, k] for k in intersection]) - means[v]\n",
        "    return sim_cos(a, b)\n",
        "\n"
      ],
      "execution_count": 0,
      "outputs": []
    },
    {
      "cell_type": "code",
      "metadata": {
        "id": "fBhZzfC-ObPU",
        "colab_type": "code",
        "colab": {
          "base_uri": "https://localhost:8080/",
          "height": 34
        },
        "outputId": "43460f90-0a88-4dcc-f0a4-8b717ae85e01"
      },
      "source": [
        "means = user_means(user_item2rating, user2item)\n",
        "ans = sim_pearson(1, 5, means, user2item, user_item2rating)\n",
        "print(ans)"
      ],
      "execution_count": 26,
      "outputs": [
        {
          "output_type": "stream",
          "text": [
            "0.11996713555118083\n"
          ],
          "name": "stdout"
        }
      ]
    },
    {
      "cell_type": "code",
      "metadata": {
        "id": "IsK-IifFObCF",
        "colab_type": "code",
        "colab": {}
      },
      "source": [
        "def euclidean_distance(u, v):\n",
        "    return np.sqrt(np.sum((u - v) ** 2))\n",
        "\n",
        "def neighbors(x_vec, y_cls, p_i, k=10):\n",
        "    dist_class = [(euclidean_distance(x_i, p_i), y_cls[i]) for i, x_i in enumerate(x_vec)]\n",
        "    sorted_distance = sorted(dist_class, key=lambda x: x[0])[:k]\n",
        "    return [y_i for (_, y_i) in sorted_distance]\n",
        "\n",
        "def closest_users(u: int, j: int, item2user, user_item2rating):\n",
        "    users = item2user[j]\n",
        "    ratings = [user_item2rating[user, j] for user in users]\n",
        "    closests = neighbors(ratings, users, user_item2rating[(u, j)])\n",
        "    return closests\n"
      ],
      "execution_count": 0,
      "outputs": []
    },
    {
      "cell_type": "code",
      "metadata": {
        "id": "_jaEqiAOE0n8",
        "colab_type": "code",
        "colab": {
          "base_uri": "https://localhost:8080/",
          "height": 34
        },
        "outputId": "696a1314-61fc-45ea-e2ec-6f7f58bd4b0b"
      },
      "source": [
        "u = 1\n",
        "j = 2\n",
        "closest_users(u, j, item2user, user_item2rating)"
      ],
      "execution_count": 32,
      "outputs": [
        {
          "output_type": "execute_result",
          "data": {
            "text/plain": [
              "[405.0, 691.0, 1005.0, 1227.0, 1258.0, 1805.0, 1858.0, 2193.0, 2205.0, 2417.0]"
            ]
          },
          "metadata": {
            "tags": []
          },
          "execution_count": 32
        }
      ]
    },
    {
      "cell_type": "code",
      "metadata": {
        "id": "tywAlUmDE7P9",
        "colab_type": "code",
        "colab": {}
      },
      "source": [
        "def predict_rating(u: int, j: int, means: dict, user2item, item2user, user_item2rating):\n",
        "    k_closest = closest_users(u, j, item2user, user_item2rating)\n",
        "    similars = np.array([sim_pearson(u, v, means, user2item, user_item2rating) for v in k_closest])\n",
        "    s_vj = np.array([user_item2rating[(v, j)] - means[v] for v in k_closest])\n",
        "    num = np.sum(similars * s_vj ) \n",
        "    den = np.sum(list(map(abs, similars)))\n",
        "    return means[u] + num/den"
      ],
      "execution_count": 0,
      "outputs": []
    },
    {
      "cell_type": "code",
      "metadata": {
        "id": "ja6Rp1RuMVxA",
        "colab_type": "code",
        "colab": {
          "base_uri": "https://localhost:8080/",
          "height": 118
        },
        "outputId": "0999ad57-c191-46a3-df00-c8bb406ffe6e"
      },
      "source": [
        "r_pred = predict_rating(u, j, means, user2item, item2user, user_item2rating)\n",
        "print(r_pred)\n",
        "print(user_item2rating[(u, j)])"
      ],
      "execution_count": 56,
      "outputs": [
        {
          "output_type": "stream",
          "text": [
            "<class 'numpy.ndarray'>\n",
            "<class 'numpy.ndarray'>\n",
            "<class 'numpy.float64'>\n",
            "<class 'numpy.float64'>\n",
            "4.638066215034316\n",
            "4.0\n"
          ],
          "name": "stdout"
        }
      ]
    },
    {
      "cell_type": "code",
      "metadata": {
        "id": "1ZYV8w5-Mjph",
        "colab_type": "code",
        "colab": {}
      },
      "source": [
        ""
      ],
      "execution_count": 0,
      "outputs": []
    }
  ]
}