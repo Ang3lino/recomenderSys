{
  "nbformat": 4,
  "nbformat_minor": 0,
  "metadata": {
    "colab": {
      "name": "autorec",
      "provenance": [],
      "collapsed_sections": [],
      "authorship_tag": "ABX9TyMV1KfrKAU3+cn6YCpLA8zY",
      "include_colab_link": true
    },
    "kernelspec": {
      "name": "python3",
      "display_name": "Python 3"
    },
    "accelerator": "GPU"
  },
  "cells": [
    {
      "cell_type": "markdown",
      "metadata": {
        "id": "view-in-github",
        "colab_type": "text"
      },
      "source": [
        "<a href=\"https://colab.research.google.com/github/Ang3lino/recomenderSys/blob/master/autorec.ipynb\" target=\"_parent\"><img src=\"https://colab.research.google.com/assets/colab-badge.svg\" alt=\"Open In Colab\"/></a>"
      ]
    },
    {
      "cell_type": "code",
      "metadata": {
        "id": "5Y26giTPQXuS",
        "colab_type": "code",
        "colab": {}
      },
      "source": [
        "\n",
        "import numpy as np\n",
        "import pandas as pd\n",
        "import matplotlib.pyplot as plt\n",
        "\n",
        "\n",
        "import os\n",
        "import random\n",
        "import pickle\n",
        "\n",
        "from sortedcontainers import SortedList\n",
        "from collections import Counter, defaultdict\n",
        "from tqdm import tqdm  # modulo cuya finalidad es dar un feedback del progreso de algun procedimiento\n",
        "\n",
        "from sklearn import preprocessing  # LabelEncoder\n",
        "from sklearn.utils import shuffle\n",
        "from scipy.sparse import lil_matrix, csr_matrix, save_npz, load_npz"
      ],
      "execution_count": 0,
      "outputs": []
    },
    {
      "cell_type": "code",
      "metadata": {
        "id": "ZtQ6MdjpRFYk",
        "colab_type": "code",
        "outputId": "84d59d59-71b9-4b80-db25-21557879ed42",
        "colab": {
          "base_uri": "https://localhost:8080/",
          "height": 122
        }
      },
      "source": [
        "from google.colab import drive  \n",
        "drive.mount('/content/drive')"
      ],
      "execution_count": 2,
      "outputs": [
        {
          "output_type": "stream",
          "text": [
            "Go to this URL in a browser: https://accounts.google.com/o/oauth2/auth?client_id=947318989803-6bn6qk8qdgf4n4g3pfee6491hc0brc4i.apps.googleusercontent.com&redirect_uri=urn%3aietf%3awg%3aoauth%3a2.0%3aoob&response_type=code&scope=email%20https%3a%2f%2fwww.googleapis.com%2fauth%2fdocs.test%20https%3a%2f%2fwww.googleapis.com%2fauth%2fdrive%20https%3a%2f%2fwww.googleapis.com%2fauth%2fdrive.photos.readonly%20https%3a%2f%2fwww.googleapis.com%2fauth%2fpeopleapi.readonly\n",
            "\n",
            "Enter your authorization code:\n",
            "··········\n",
            "Mounted at /content/drive\n"
          ],
          "name": "stdout"
        }
      ]
    },
    {
      "cell_type": "code",
      "metadata": {
        "id": "ei2rKVKFpFy8",
        "colab_type": "code",
        "colab": {}
      },
      "source": [
        "# !pip install tqdm --upgrade\n",
        "# tqdm.pandas()"
      ],
      "execution_count": 0,
      "outputs": []
    },
    {
      "cell_type": "code",
      "metadata": {
        "id": "NVWIo2_RRI-q",
        "colab_type": "code",
        "outputId": "73b1ba18-b18c-47ad-832c-f9d832ac2fed",
        "colab": {
          "base_uri": "https://localhost:8080/",
          "height": 204
        }
      },
      "source": [
        "fdir = \"drive/My Drive/petroleo/movielens-20m-dataset\"\n",
        "fname = 'rating.csv'\n",
        "df = pd.read_csv(os.path.join(fdir, fname))\n",
        "df.head()"
      ],
      "execution_count": 4,
      "outputs": [
        {
          "output_type": "execute_result",
          "data": {
            "text/html": [
              "<div>\n",
              "<style scoped>\n",
              "    .dataframe tbody tr th:only-of-type {\n",
              "        vertical-align: middle;\n",
              "    }\n",
              "\n",
              "    .dataframe tbody tr th {\n",
              "        vertical-align: top;\n",
              "    }\n",
              "\n",
              "    .dataframe thead th {\n",
              "        text-align: right;\n",
              "    }\n",
              "</style>\n",
              "<table border=\"1\" class=\"dataframe\">\n",
              "  <thead>\n",
              "    <tr style=\"text-align: right;\">\n",
              "      <th></th>\n",
              "      <th>userId</th>\n",
              "      <th>movieId</th>\n",
              "      <th>rating</th>\n",
              "      <th>timestamp</th>\n",
              "    </tr>\n",
              "  </thead>\n",
              "  <tbody>\n",
              "    <tr>\n",
              "      <th>0</th>\n",
              "      <td>1</td>\n",
              "      <td>2</td>\n",
              "      <td>3.5</td>\n",
              "      <td>2005-04-02 23:53:47</td>\n",
              "    </tr>\n",
              "    <tr>\n",
              "      <th>1</th>\n",
              "      <td>1</td>\n",
              "      <td>29</td>\n",
              "      <td>3.5</td>\n",
              "      <td>2005-04-02 23:31:16</td>\n",
              "    </tr>\n",
              "    <tr>\n",
              "      <th>2</th>\n",
              "      <td>1</td>\n",
              "      <td>32</td>\n",
              "      <td>3.5</td>\n",
              "      <td>2005-04-02 23:33:39</td>\n",
              "    </tr>\n",
              "    <tr>\n",
              "      <th>3</th>\n",
              "      <td>1</td>\n",
              "      <td>47</td>\n",
              "      <td>3.5</td>\n",
              "      <td>2005-04-02 23:32:07</td>\n",
              "    </tr>\n",
              "    <tr>\n",
              "      <th>4</th>\n",
              "      <td>1</td>\n",
              "      <td>50</td>\n",
              "      <td>3.5</td>\n",
              "      <td>2005-04-02 23:29:40</td>\n",
              "    </tr>\n",
              "  </tbody>\n",
              "</table>\n",
              "</div>"
            ],
            "text/plain": [
              "   userId  movieId  rating            timestamp\n",
              "0       1        2     3.5  2005-04-02 23:53:47\n",
              "1       1       29     3.5  2005-04-02 23:31:16\n",
              "2       1       32     3.5  2005-04-02 23:33:39\n",
              "3       1       47     3.5  2005-04-02 23:32:07\n",
              "4       1       50     3.5  2005-04-02 23:29:40"
            ]
          },
          "metadata": {
            "tags": []
          },
          "execution_count": 4
        }
      ]
    },
    {
      "cell_type": "code",
      "metadata": {
        "id": "wY5KOfNhTAlG",
        "colab_type": "code",
        "colab": {}
      },
      "source": [
        "le = preprocessing.LabelEncoder()\n",
        "df.loc[:, 'movieId'] = le.fit_transform(df.loc[:, 'movieId'])\n",
        "le = preprocessing.LabelEncoder()\n",
        "df.loc[:, 'userId'] = le.fit_transform(df.loc[:, 'userId'])"
      ],
      "execution_count": 0,
      "outputs": []
    },
    {
      "cell_type": "code",
      "metadata": {
        "id": "kSGgpFE_TVvJ",
        "colab_type": "code",
        "outputId": "a12a8a19-460f-4598-978e-8e7943ad0386",
        "colab": {
          "base_uri": "https://localhost:8080/",
          "height": 419
        }
      },
      "source": [
        "df.head(1000)"
      ],
      "execution_count": 6,
      "outputs": [
        {
          "output_type": "execute_result",
          "data": {
            "text/html": [
              "<div>\n",
              "<style scoped>\n",
              "    .dataframe tbody tr th:only-of-type {\n",
              "        vertical-align: middle;\n",
              "    }\n",
              "\n",
              "    .dataframe tbody tr th {\n",
              "        vertical-align: top;\n",
              "    }\n",
              "\n",
              "    .dataframe thead th {\n",
              "        text-align: right;\n",
              "    }\n",
              "</style>\n",
              "<table border=\"1\" class=\"dataframe\">\n",
              "  <thead>\n",
              "    <tr style=\"text-align: right;\">\n",
              "      <th></th>\n",
              "      <th>userId</th>\n",
              "      <th>movieId</th>\n",
              "      <th>rating</th>\n",
              "      <th>timestamp</th>\n",
              "    </tr>\n",
              "  </thead>\n",
              "  <tbody>\n",
              "    <tr>\n",
              "      <th>0</th>\n",
              "      <td>0</td>\n",
              "      <td>1</td>\n",
              "      <td>3.5</td>\n",
              "      <td>2005-04-02 23:53:47</td>\n",
              "    </tr>\n",
              "    <tr>\n",
              "      <th>1</th>\n",
              "      <td>0</td>\n",
              "      <td>28</td>\n",
              "      <td>3.5</td>\n",
              "      <td>2005-04-02 23:31:16</td>\n",
              "    </tr>\n",
              "    <tr>\n",
              "      <th>2</th>\n",
              "      <td>0</td>\n",
              "      <td>31</td>\n",
              "      <td>3.5</td>\n",
              "      <td>2005-04-02 23:33:39</td>\n",
              "    </tr>\n",
              "    <tr>\n",
              "      <th>3</th>\n",
              "      <td>0</td>\n",
              "      <td>46</td>\n",
              "      <td>3.5</td>\n",
              "      <td>2005-04-02 23:32:07</td>\n",
              "    </tr>\n",
              "    <tr>\n",
              "      <th>4</th>\n",
              "      <td>0</td>\n",
              "      <td>49</td>\n",
              "      <td>3.5</td>\n",
              "      <td>2005-04-02 23:29:40</td>\n",
              "    </tr>\n",
              "    <tr>\n",
              "      <th>...</th>\n",
              "      <td>...</td>\n",
              "      <td>...</td>\n",
              "      <td>...</td>\n",
              "      <td>...</td>\n",
              "    </tr>\n",
              "    <tr>\n",
              "      <th>995</th>\n",
              "      <td>10</td>\n",
              "      <td>437</td>\n",
              "      <td>1.5</td>\n",
              "      <td>2009-01-01 23:52:42</td>\n",
              "    </tr>\n",
              "    <tr>\n",
              "      <th>996</th>\n",
              "      <td>10</td>\n",
              "      <td>438</td>\n",
              "      <td>4.5</td>\n",
              "      <td>2009-01-01 05:33:22</td>\n",
              "    </tr>\n",
              "    <tr>\n",
              "      <th>997</th>\n",
              "      <td>10</td>\n",
              "      <td>476</td>\n",
              "      <td>5.0</td>\n",
              "      <td>2009-01-01 05:45:13</td>\n",
              "    </tr>\n",
              "    <tr>\n",
              "      <th>998</th>\n",
              "      <td>10</td>\n",
              "      <td>496</td>\n",
              "      <td>4.5</td>\n",
              "      <td>2009-01-02 01:15:49</td>\n",
              "    </tr>\n",
              "    <tr>\n",
              "      <th>999</th>\n",
              "      <td>10</td>\n",
              "      <td>515</td>\n",
              "      <td>1.0</td>\n",
              "      <td>2009-01-01 05:26:31</td>\n",
              "    </tr>\n",
              "  </tbody>\n",
              "</table>\n",
              "<p>1000 rows × 4 columns</p>\n",
              "</div>"
            ],
            "text/plain": [
              "     userId  movieId  rating            timestamp\n",
              "0         0        1     3.5  2005-04-02 23:53:47\n",
              "1         0       28     3.5  2005-04-02 23:31:16\n",
              "2         0       31     3.5  2005-04-02 23:33:39\n",
              "3         0       46     3.5  2005-04-02 23:32:07\n",
              "4         0       49     3.5  2005-04-02 23:29:40\n",
              "..      ...      ...     ...                  ...\n",
              "995      10      437     1.5  2009-01-01 23:52:42\n",
              "996      10      438     4.5  2009-01-01 05:33:22\n",
              "997      10      476     5.0  2009-01-01 05:45:13\n",
              "998      10      496     4.5  2009-01-02 01:15:49\n",
              "999      10      515     1.0  2009-01-01 05:26:31\n",
              "\n",
              "[1000 rows x 4 columns]"
            ]
          },
          "metadata": {
            "tags": []
          },
          "execution_count": 6
        }
      ]
    },
    {
      "cell_type": "code",
      "metadata": {
        "id": "0S24bWnRTYTI",
        "colab_type": "code",
        "colab": {}
      },
      "source": [
        "df = df.drop(columns=['timestamp'])"
      ],
      "execution_count": 0,
      "outputs": []
    },
    {
      "cell_type": "code",
      "metadata": {
        "id": "I7U1HY7sWkx4",
        "colab_type": "code",
        "colab": {}
      },
      "source": [
        "m = max(df.loc[:, 'userId']) + 1\n",
        "n = max(df.loc[:, 'movieId']) + 1"
      ],
      "execution_count": 0,
      "outputs": []
    },
    {
      "cell_type": "code",
      "metadata": {
        "id": "zuZ_19KKXBav",
        "colab_type": "code",
        "colab": {}
      },
      "source": [
        "df = shuffle(df)\n",
        "cutoff = int(0.8 * len(df))\n",
        "df_train = df.iloc[:cutoff]\n",
        "df_test = df.iloc[cutoff:]"
      ],
      "execution_count": 0,
      "outputs": []
    },
    {
      "cell_type": "code",
      "metadata": {
        "id": "dEIvVtUaXwZn",
        "colab_type": "code",
        "colab": {}
      },
      "source": [
        "matrix = lil_matrix((m, n))\n",
        "def lil(row):\n",
        "    global matrix\n",
        "    i = int(row['userId'])\n",
        "    j = int(row['movieId'])\n",
        "    matrix[(i, j)] = row['rating']\n",
        "\n"
      ],
      "execution_count": 0,
      "outputs": []
    },
    {
      "cell_type": "code",
      "metadata": {
        "id": "nFIDY-JacJJf",
        "colab_type": "code",
        "colab": {}
      },
      "source": [
        "def preprocess():\n",
        "    train_path = os.path.join(fdir, 'matrix_train.npz')\n",
        "    if not os.path.exists(train_path):\n",
        "        df_train.progress_apply(lil, axis=1)\n",
        "        matrix_csr = matrix.tocsr()\n",
        "        save_npz(train_path, matrix_csr)\n",
        "\n",
        "    test_path = os.path.join(fdir, 'matrix_train.npz')\n",
        "    if not os.path.exists(test_path):\n",
        "        matrix = lil_matrix((m, n))\n",
        "        df_test.progress_apply(lil, axis=1)\n",
        "        save_npz(os.path.join(fdir, 'matrix_test.npz'), matrix.tocsr())\n",
        "    \n",
        "preprocess()"
      ],
      "execution_count": 0,
      "outputs": []
    },
    {
      "cell_type": "code",
      "metadata": {
        "id": "ubJdii35YdqR",
        "colab_type": "code",
        "colab": {}
      },
      "source": [
        ""
      ],
      "execution_count": 0,
      "outputs": []
    },
    {
      "cell_type": "code",
      "metadata": {
        "id": "73Ohs_4_dkQh",
        "colab_type": "code",
        "colab": {}
      },
      "source": [
        ""
      ],
      "execution_count": 0,
      "outputs": []
    },
    {
      "cell_type": "markdown",
      "metadata": {
        "id": "RLnnlC9O9Vpx",
        "colab_type": "text"
      },
      "source": [
        "#Definicion del modelo\n"
      ]
    },
    {
      "cell_type": "code",
      "metadata": {
        "id": "G5neqjlBxlSx",
        "colab_type": "code",
        "outputId": "217f49fa-9f4a-402d-cae8-567a3c1c1e23",
        "colab": {
          "base_uri": "https://localhost:8080/",
          "height": 80
        }
      },
      "source": [
        "import keras.backend as K\n",
        "\n",
        "from keras.models import Model\n",
        "from keras.layers import Input, Dense, Dropout\n",
        "from keras.regularizers import l2\n",
        "from keras.optimizers import SGD"
      ],
      "execution_count": 12,
      "outputs": [
        {
          "output_type": "stream",
          "text": [
            "Using TensorFlow backend.\n"
          ],
          "name": "stderr"
        },
        {
          "output_type": "display_data",
          "data": {
            "text/html": [
              "<p style=\"color: red;\">\n",
              "The default version of TensorFlow in Colab will switch to TensorFlow 2.x on the 27th of March, 2020.<br>\n",
              "We recommend you <a href=\"https://www.tensorflow.org/guide/migrate\" target=\"_blank\">upgrade</a> now\n",
              "or ensure your notebook will continue to use TensorFlow 1.x via the <code>%tensorflow_version 1.x</code> magic:\n",
              "<a href=\"https://colab.research.google.com/notebooks/tensorflow_version.ipynb\" target=\"_blank\">more info</a>.</p>\n"
            ],
            "text/plain": [
              "<IPython.core.display.HTML object>"
            ]
          },
          "metadata": {
            "tags": []
          }
        }
      ]
    },
    {
      "cell_type": "code",
      "metadata": {
        "id": "l_HbiAmD0Sx7",
        "colab_type": "code",
        "colab": {}
      },
      "source": [
        "# config\n",
        "batch_size = 128\n",
        "epochs = 15\n",
        "reg = 1e-3"
      ],
      "execution_count": 0,
      "outputs": []
    },
    {
      "cell_type": "code",
      "metadata": {
        "id": "M41kD2Rf0yBz",
        "colab_type": "code",
        "colab": {}
      },
      "source": [
        "train_matrix = load_npz(os.path.join(fdir, 'matrix_train.npz'))\n",
        "test_matrix = load_npz(os.path.join(fdir, 'matrix_test.npz'))\n",
        "train_mask = (train_matrix > 0) * 1.0\n",
        "test_mask = (test_matrix > 0) * 1.0\n",
        "m, n = train_matrix.shape\n",
        "mu = train_matrix.sum() / train_mask.sum()\n"
      ],
      "execution_count": 0,
      "outputs": []
    },
    {
      "cell_type": "code",
      "metadata": {
        "id": "7pulbG3L0yxq",
        "colab_type": "code",
        "outputId": "b1af2f24-1bdf-455e-92ab-e4e2351dee8e",
        "colab": {
          "base_uri": "https://localhost:8080/",
          "height": 241
        }
      },
      "source": [
        "i = Input(shape=(n,))\n",
        "x = Dropout(0.7)(i)\n",
        "x = Dense(1000, activation='tanh', kernel_regularizer=l2(reg))(x)\n",
        "x = Dense(n, kernel_regularizer=l2(reg))(x)\n",
        "\n"
      ],
      "execution_count": 15,
      "outputs": [
        {
          "output_type": "stream",
          "text": [
            "WARNING:tensorflow:From /usr/local/lib/python3.6/dist-packages/keras/backend/tensorflow_backend.py:66: The name tf.get_default_graph is deprecated. Please use tf.compat.v1.get_default_graph instead.\n",
            "\n",
            "WARNING:tensorflow:From /usr/local/lib/python3.6/dist-packages/keras/backend/tensorflow_backend.py:541: The name tf.placeholder is deprecated. Please use tf.compat.v1.placeholder instead.\n",
            "\n",
            "WARNING:tensorflow:From /usr/local/lib/python3.6/dist-packages/keras/backend/tensorflow_backend.py:148: The name tf.placeholder_with_default is deprecated. Please use tf.compat.v1.placeholder_with_default instead.\n",
            "\n",
            "WARNING:tensorflow:From /usr/local/lib/python3.6/dist-packages/keras/backend/tensorflow_backend.py:3733: calling dropout (from tensorflow.python.ops.nn_ops) with keep_prob is deprecated and will be removed in a future version.\n",
            "Instructions for updating:\n",
            "Please use `rate` instead of `keep_prob`. Rate should be set to `rate = 1 - keep_prob`.\n",
            "WARNING:tensorflow:Large dropout rate: 0.7 (>0.5). In TensorFlow 2.x, dropout() uses dropout rate instead of keep_prob. Please ensure that this is intended.\n",
            "WARNING:tensorflow:From /usr/local/lib/python3.6/dist-packages/keras/backend/tensorflow_backend.py:4432: The name tf.random_uniform is deprecated. Please use tf.random.uniform instead.\n",
            "\n"
          ],
          "name": "stdout"
        }
      ]
    },
    {
      "cell_type": "code",
      "metadata": {
        "id": "NMvo9BW42nUE",
        "colab_type": "code",
        "colab": {}
      },
      "source": [
        "def custom_loss(y_true, y_pred):\n",
        "    mask = K.cast(K.not_equal(y_true, 0), dtype='float32')\n",
        "    diff = y_pred - y_true\n",
        "    sqdiff = diff*diff*mask\n",
        "    sse = K.sum(K.sum(sqdiff))\n",
        "    n = K.sum(K.sum(mask))\n",
        "    return sse / n \n",
        "\n",
        "def generator(A, M):\n",
        "    while True:\n",
        "        A, M = shuffle(A, M)\n",
        "        for i in range(A.shape[0] // batch_size + 1):\n",
        "            upper = min((i + 1)*batch_size, A.shape[0])\n",
        "            a = A[i*batch_size:upper].toarray()\n",
        "            m = M[i*batch_size:upper].toarray()\n",
        "            a = a - mu*m\n",
        "            yield a, a \n",
        "\n",
        "def generator_test(A, M, A_test, M_test):\n",
        "    while True:\n",
        "        for i in range(A.shape[0] // batch_size + 1):\n",
        "            upper = min((i + 1)*batch_size, A.shape[0])\n",
        "            a = A[i*batch_size:upper].toarray()\n",
        "            m = M[i*batch_size:upper].toarray()\n",
        "            at = A_test[i*batch_size:upper].toarray()\n",
        "            mt = M_test[i*batch_size:upper].toarray()\n",
        "            at = at - mu*mt\n",
        "            yield a, at"
      ],
      "execution_count": 0,
      "outputs": []
    },
    {
      "cell_type": "code",
      "metadata": {
        "id": "YkU-Wzea4Sb4",
        "colab_type": "code",
        "outputId": "0f4a9338-1520-4f57-e7e8-728151f9e80b",
        "colab": {
          "base_uri": "https://localhost:8080/",
          "height": 88
        }
      },
      "source": [
        "#  new explorer, Jazmin Becerra\n",
        "model = Model(i, x)\n",
        "model.compile(\n",
        "    loss=custom_loss,\n",
        "    optimizer=SGD(lr=0.08, momentum=0.9),\n",
        "    metrics=[custom_loss],\n",
        ") \n",
        "print(m, n)"
      ],
      "execution_count": 17,
      "outputs": [
        {
          "output_type": "stream",
          "text": [
            "WARNING:tensorflow:From /usr/local/lib/python3.6/dist-packages/keras/optimizers.py:793: The name tf.train.Optimizer is deprecated. Please use tf.compat.v1.train.Optimizer instead.\n",
            "\n",
            "138493 26744\n"
          ],
          "name": "stdout"
        }
      ]
    },
    {
      "cell_type": "code",
      "metadata": {
        "id": "zShcbqaB8PIn",
        "colab_type": "code",
        "outputId": "85e6ebd4-6353-4ce4-b078-f6edcd0548ad",
        "colab": {
          "base_uri": "https://localhost:8080/",
          "height": 819
        }
      },
      "source": [
        "r = model.fit_generator(\n",
        "    generator(train_matrix, train_mask), \n",
        "    validation_data=generator_test(train_matrix, train_mask, test_matrix, test_mask),\n",
        "    epochs=epochs,\n",
        "    steps_per_epoch=train_matrix.shape[0] // batch_size + 1,\n",
        "    validation_steps=train_matrix.shape[0] // batch_size + 1\n",
        ")\n",
        "\n"
      ],
      "execution_count": 18,
      "outputs": [
        {
          "output_type": "stream",
          "text": [
            "WARNING:tensorflow:From /usr/local/lib/python3.6/dist-packages/keras/backend/tensorflow_backend.py:1033: The name tf.assign_add is deprecated. Please use tf.compat.v1.assign_add instead.\n",
            "\n",
            "WARNING:tensorflow:From /usr/local/lib/python3.6/dist-packages/keras/backend/tensorflow_backend.py:1020: The name tf.assign is deprecated. Please use tf.compat.v1.assign instead.\n",
            "\n",
            "WARNING:tensorflow:From /usr/local/lib/python3.6/dist-packages/keras/backend/tensorflow_backend.py:3005: The name tf.Session is deprecated. Please use tf.compat.v1.Session instead.\n",
            "\n",
            "Epoch 1/15\n",
            "WARNING:tensorflow:From /usr/local/lib/python3.6/dist-packages/keras/backend/tensorflow_backend.py:190: The name tf.get_default_session is deprecated. Please use tf.compat.v1.get_default_session instead.\n",
            "\n",
            "WARNING:tensorflow:From /usr/local/lib/python3.6/dist-packages/keras/backend/tensorflow_backend.py:197: The name tf.ConfigProto is deprecated. Please use tf.compat.v1.ConfigProto instead.\n",
            "\n",
            "WARNING:tensorflow:From /usr/local/lib/python3.6/dist-packages/keras/backend/tensorflow_backend.py:207: The name tf.global_variables is deprecated. Please use tf.compat.v1.global_variables instead.\n",
            "\n",
            "WARNING:tensorflow:From /usr/local/lib/python3.6/dist-packages/keras/backend/tensorflow_backend.py:216: The name tf.is_variable_initialized is deprecated. Please use tf.compat.v1.is_variable_initialized instead.\n",
            "\n",
            "WARNING:tensorflow:From /usr/local/lib/python3.6/dist-packages/keras/backend/tensorflow_backend.py:223: The name tf.variables_initializer is deprecated. Please use tf.compat.v1.variables_initializer instead.\n",
            "\n",
            "1082/1082 [==============================] - 98s 91ms/step - loss: 1.9181 - custom_loss: 0.7735 - val_loss: 2.3091 - val_custom_loss: 2.1257\n",
            "Epoch 2/15\n",
            "1082/1082 [==============================] - 90s 83ms/step - loss: 0.8197 - custom_loss: 0.7207 - val_loss: 2.1583 - val_custom_loss: 2.0889\n",
            "Epoch 3/15\n",
            "1082/1082 [==============================] - 89s 83ms/step - loss: 0.7832 - custom_loss: 0.7163 - val_loss: 2.1776 - val_custom_loss: 2.1116\n",
            "Epoch 4/15\n",
            "1082/1082 [==============================] - 90s 84ms/step - loss: 0.7812 - custom_loss: 0.7152 - val_loss: 2.1782 - val_custom_loss: 2.1126\n",
            "Epoch 5/15\n",
            "1082/1082 [==============================] - 91s 84ms/step - loss: 0.7802 - custom_loss: 0.7146 - val_loss: 2.1134 - val_custom_loss: 2.0491\n",
            "Epoch 6/15\n",
            "1082/1082 [==============================] - 93s 86ms/step - loss: 0.7797 - custom_loss: 0.7146 - val_loss: 2.1213 - val_custom_loss: 2.0569\n",
            "Epoch 7/15\n",
            "1082/1082 [==============================] - 92s 85ms/step - loss: 0.7791 - custom_loss: 0.7141 - val_loss: 2.1093 - val_custom_loss: 2.0448\n",
            "Epoch 8/15\n",
            "1082/1082 [==============================] - 89s 82ms/step - loss: 0.7786 - custom_loss: 0.7142 - val_loss: 2.0930 - val_custom_loss: 2.0285\n",
            "Epoch 9/15\n",
            "1082/1082 [==============================] - 91s 84ms/step - loss: 0.7783 - custom_loss: 0.7139 - val_loss: 2.1517 - val_custom_loss: 2.0873\n",
            "Epoch 10/15\n",
            "1082/1082 [==============================] - 92s 85ms/step - loss: 0.7775 - custom_loss: 0.7133 - val_loss: 2.0985 - val_custom_loss: 2.0350\n",
            "Epoch 11/15\n",
            "1082/1082 [==============================] - 92s 85ms/step - loss: 0.7777 - custom_loss: 0.7139 - val_loss: 2.0754 - val_custom_loss: 2.0119\n",
            "Epoch 12/15\n",
            "1082/1082 [==============================] - 91s 84ms/step - loss: 0.7769 - custom_loss: 0.7130 - val_loss: 2.0869 - val_custom_loss: 2.0237\n",
            "Epoch 13/15\n",
            "1082/1082 [==============================] - 93s 86ms/step - loss: 0.7772 - custom_loss: 0.7136 - val_loss: 2.0513 - val_custom_loss: 1.9879\n",
            "Epoch 14/15\n",
            "1082/1082 [==============================] - 90s 83ms/step - loss: 0.7764 - custom_loss: 0.7130 - val_loss: 2.0640 - val_custom_loss: 2.0003\n",
            "Epoch 15/15\n",
            "1082/1082 [==============================] - 90s 84ms/step - loss: 0.7768 - custom_loss: 0.7133 - val_loss: 2.0255 - val_custom_loss: 1.9624\n"
          ],
          "name": "stdout"
        }
      ]
    },
    {
      "cell_type": "code",
      "metadata": {
        "id": "bsMdkKZd_euW",
        "colab_type": "code",
        "colab": {
          "base_uri": "https://localhost:8080/",
          "height": 323
        },
        "outputId": "f418055d-a3a6-4f62-bd96-242941c2ccfb"
      },
      "source": [
        "print(model.summary())\n",
        "print(r.history.keys())"
      ],
      "execution_count": 19,
      "outputs": [
        {
          "output_type": "stream",
          "text": [
            "Model: \"model_1\"\n",
            "_________________________________________________________________\n",
            "Layer (type)                 Output Shape              Param #   \n",
            "=================================================================\n",
            "input_1 (InputLayer)         (None, 26744)             0         \n",
            "_________________________________________________________________\n",
            "dropout_1 (Dropout)          (None, 26744)             0         \n",
            "_________________________________________________________________\n",
            "dense_1 (Dense)              (None, 1000)              26745000  \n",
            "_________________________________________________________________\n",
            "dense_2 (Dense)              (None, 26744)             26770744  \n",
            "=================================================================\n",
            "Total params: 53,515,744\n",
            "Trainable params: 53,515,744\n",
            "Non-trainable params: 0\n",
            "_________________________________________________________________\n",
            "None\n",
            "dict_keys(['val_loss', 'val_custom_loss', 'loss', 'custom_loss'])\n"
          ],
          "name": "stdout"
        }
      ]
    },
    {
      "cell_type": "code",
      "metadata": {
        "id": "Z05FiJv6DFrt",
        "colab_type": "code",
        "colab": {
          "base_uri": "https://localhost:8080/",
          "height": 265
        },
        "outputId": "c87c9b3c-163b-4daf-d0ba-b08027adc8cb"
      },
      "source": [
        "plt.plot(r.history['loss'],  label='train loss')\n",
        "plt.plot(r.history['val_loss'],  label='test loss')\n",
        "plt.legend()\n",
        "plt.show()"
      ],
      "execution_count": 20,
      "outputs": [
        {
          "output_type": "display_data",
          "data": {
            "image/png": "[encoded data removed]",
            "text/plain": [
              "<Figure size 432x288 with 1 Axes>"
            ]
          },
          "metadata": {
            "tags": []
          }
        }
      ]
    },
    {
      "cell_type": "code",
      "metadata": {
        "id": "2zNwokSfM531",
        "colab_type": "code",
        "colab": {
          "base_uri": "https://localhost:8080/",
          "height": 265
        },
        "outputId": "43f78eb2-877b-4fbe-86b3-f2228cd137a9"
      },
      "source": [
        "plt.plot(r.history['custom_loss'],  label='train mse')\n",
        "plt.plot(r.history['val_custom_loss'],  label='test mse')\n",
        "plt.legend()\n",
        "plt.show()"
      ],
      "execution_count": 21,
      "outputs": [
        {
          "output_type": "display_data",
          "data": {
            "image/png": "[encoded data removed]",
            "text/plain": [
              "<Figure size 432x288 with 1 Axes>"
            ]
          },
          "metadata": {
            "tags": []
          }
        }
      ]
    },
    {
      "cell_type": "code",
      "metadata": {
        "id": "-i4MvVXrNUl9",
        "colab_type": "code",
        "colab": {}
      },
      "source": [
        ""
      ],
      "execution_count": 0,
      "outputs": []
    }
  ]
}